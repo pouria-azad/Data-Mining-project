{
  "nbformat": 4,
  "nbformat_minor": 0,
  "metadata": {
    "colab": {
      "provenance": []
    },
    "kernelspec": {
      "name": "python3",
      "display_name": "Python 3"
    },
    "language_info": {
      "name": "python"
    }
  },
  "cells": [
    {
      "cell_type": "code",
      "source": [
        "from google.colab import drive\n",
        "drive.mount('/content/drive')"
      ],
      "metadata": {
        "colab": {
          "base_uri": "https://localhost:8080/"
        },
        "id": "Q1Bny82P3KZ5",
        "outputId": "3ecb0504-0688-4552-9e7f-0d0832edfcca"
      },
      "execution_count": 1,
      "outputs": [
        {
          "output_type": "stream",
          "name": "stdout",
          "text": [
            "Mounted at /content/drive\n"
          ]
        }
      ]
    },
    {
      "cell_type": "code",
      "source": [
        "import pandas as pd\n",
        "import numpy as np\n",
        "import matplotlib.pyplot as plt\n",
        "import pylab as plt"
      ],
      "metadata": {
        "id": "N7f1aEsIZxiA"
      },
      "execution_count": 2,
      "outputs": []
    },
    {
      "cell_type": "code",
      "source": [
        "df_house_price = pd.read_csv('/content/drive/MyDrive/Melbourne_housing_FULL.csv')"
      ],
      "metadata": {
        "id": "EFQHs8u7aPcq"
      },
      "execution_count": 3,
      "outputs": []
    },
    {
      "cell_type": "code",
      "source": [
        "pd.set_option('display.max_columns', None)\n",
        "df_house_price.head()"
      ],
      "metadata": {
        "colab": {
          "base_uri": "https://localhost:8080/",
          "height": 330
        },
        "id": "X9sY8TTMaWCJ",
        "outputId": "2e946ad9-2f6d-4d17-f95f-940677ea8448"
      },
      "execution_count": 4,
      "outputs": [
        {
          "output_type": "execute_result",
          "data": {
            "text/plain": [
              "       Suburb             Address  Rooms Type      Price Method SellerG  \\\n",
              "0  Abbotsford       68 Studley St      2    h        NaN     SS  Jellis   \n",
              "1  Abbotsford        85 Turner St      2    h  1480000.0      S  Biggin   \n",
              "2  Abbotsford     25 Bloomburg St      2    h  1035000.0      S  Biggin   \n",
              "3  Abbotsford  18/659 Victoria St      3    u        NaN     VB  Rounds   \n",
              "4  Abbotsford        5 Charles St      3    h  1465000.0     SP  Biggin   \n",
              "\n",
              "        Date  Distance  Postcode  Bedroom2  Bathroom  Car  Landsize  \\\n",
              "0   3/9/2016       2.5    3067.0       2.0       1.0  1.0     126.0   \n",
              "1  3/12/2016       2.5    3067.0       2.0       1.0  1.0     202.0   \n",
              "2   4/2/2016       2.5    3067.0       2.0       1.0  0.0     156.0   \n",
              "3   4/2/2016       2.5    3067.0       3.0       2.0  1.0       0.0   \n",
              "4   4/3/2017       2.5    3067.0       3.0       2.0  0.0     134.0   \n",
              "\n",
              "   BuildingArea  YearBuilt         CouncilArea  Lattitude  Longtitude  \\\n",
              "0           NaN        NaN  Yarra City Council   -37.8014    144.9958   \n",
              "1           NaN        NaN  Yarra City Council   -37.7996    144.9984   \n",
              "2          79.0     1900.0  Yarra City Council   -37.8079    144.9934   \n",
              "3           NaN        NaN  Yarra City Council   -37.8114    145.0116   \n",
              "4         150.0     1900.0  Yarra City Council   -37.8093    144.9944   \n",
              "\n",
              "              Regionname  Propertycount  \n",
              "0  Northern Metropolitan         4019.0  \n",
              "1  Northern Metropolitan         4019.0  \n",
              "2  Northern Metropolitan         4019.0  \n",
              "3  Northern Metropolitan         4019.0  \n",
              "4  Northern Metropolitan         4019.0  "
            ],
            "text/html": [
              "\n",
              "  <div id=\"df-ca30a584-9a87-41ec-b4cc-77a62ef97657\" class=\"colab-df-container\">\n",
              "    <div>\n",
              "<style scoped>\n",
              "    .dataframe tbody tr th:only-of-type {\n",
              "        vertical-align: middle;\n",
              "    }\n",
              "\n",
              "    .dataframe tbody tr th {\n",
              "        vertical-align: top;\n",
              "    }\n",
              "\n",
              "    .dataframe thead th {\n",
              "        text-align: right;\n",
              "    }\n",
              "</style>\n",
              "<table border=\"1\" class=\"dataframe\">\n",
              "  <thead>\n",
              "    <tr style=\"text-align: right;\">\n",
              "      <th></th>\n",
              "      <th>Suburb</th>\n",
              "      <th>Address</th>\n",
              "      <th>Rooms</th>\n",
              "      <th>Type</th>\n",
              "      <th>Price</th>\n",
              "      <th>Method</th>\n",
              "      <th>SellerG</th>\n",
              "      <th>Date</th>\n",
              "      <th>Distance</th>\n",
              "      <th>Postcode</th>\n",
              "      <th>Bedroom2</th>\n",
              "      <th>Bathroom</th>\n",
              "      <th>Car</th>\n",
              "      <th>Landsize</th>\n",
              "      <th>BuildingArea</th>\n",
              "      <th>YearBuilt</th>\n",
              "      <th>CouncilArea</th>\n",
              "      <th>Lattitude</th>\n",
              "      <th>Longtitude</th>\n",
              "      <th>Regionname</th>\n",
              "      <th>Propertycount</th>\n",
              "    </tr>\n",
              "  </thead>\n",
              "  <tbody>\n",
              "    <tr>\n",
              "      <th>0</th>\n",
              "      <td>Abbotsford</td>\n",
              "      <td>68 Studley St</td>\n",
              "      <td>2</td>\n",
              "      <td>h</td>\n",
              "      <td>NaN</td>\n",
              "      <td>SS</td>\n",
              "      <td>Jellis</td>\n",
              "      <td>3/9/2016</td>\n",
              "      <td>2.5</td>\n",
              "      <td>3067.0</td>\n",
              "      <td>2.0</td>\n",
              "      <td>1.0</td>\n",
              "      <td>1.0</td>\n",
              "      <td>126.0</td>\n",
              "      <td>NaN</td>\n",
              "      <td>NaN</td>\n",
              "      <td>Yarra City Council</td>\n",
              "      <td>-37.8014</td>\n",
              "      <td>144.9958</td>\n",
              "      <td>Northern Metropolitan</td>\n",
              "      <td>4019.0</td>\n",
              "    </tr>\n",
              "    <tr>\n",
              "      <th>1</th>\n",
              "      <td>Abbotsford</td>\n",
              "      <td>85 Turner St</td>\n",
              "      <td>2</td>\n",
              "      <td>h</td>\n",
              "      <td>1480000.0</td>\n",
              "      <td>S</td>\n",
              "      <td>Biggin</td>\n",
              "      <td>3/12/2016</td>\n",
              "      <td>2.5</td>\n",
              "      <td>3067.0</td>\n",
              "      <td>2.0</td>\n",
              "      <td>1.0</td>\n",
              "      <td>1.0</td>\n",
              "      <td>202.0</td>\n",
              "      <td>NaN</td>\n",
              "      <td>NaN</td>\n",
              "      <td>Yarra City Council</td>\n",
              "      <td>-37.7996</td>\n",
              "      <td>144.9984</td>\n",
              "      <td>Northern Metropolitan</td>\n",
              "      <td>4019.0</td>\n",
              "    </tr>\n",
              "    <tr>\n",
              "      <th>2</th>\n",
              "      <td>Abbotsford</td>\n",
              "      <td>25 Bloomburg St</td>\n",
              "      <td>2</td>\n",
              "      <td>h</td>\n",
              "      <td>1035000.0</td>\n",
              "      <td>S</td>\n",
              "      <td>Biggin</td>\n",
              "      <td>4/2/2016</td>\n",
              "      <td>2.5</td>\n",
              "      <td>3067.0</td>\n",
              "      <td>2.0</td>\n",
              "      <td>1.0</td>\n",
              "      <td>0.0</td>\n",
              "      <td>156.0</td>\n",
              "      <td>79.0</td>\n",
              "      <td>1900.0</td>\n",
              "      <td>Yarra City Council</td>\n",
              "      <td>-37.8079</td>\n",
              "      <td>144.9934</td>\n",
              "      <td>Northern Metropolitan</td>\n",
              "      <td>4019.0</td>\n",
              "    </tr>\n",
              "    <tr>\n",
              "      <th>3</th>\n",
              "      <td>Abbotsford</td>\n",
              "      <td>18/659 Victoria St</td>\n",
              "      <td>3</td>\n",
              "      <td>u</td>\n",
              "      <td>NaN</td>\n",
              "      <td>VB</td>\n",
              "      <td>Rounds</td>\n",
              "      <td>4/2/2016</td>\n",
              "      <td>2.5</td>\n",
              "      <td>3067.0</td>\n",
              "      <td>3.0</td>\n",
              "      <td>2.0</td>\n",
              "      <td>1.0</td>\n",
              "      <td>0.0</td>\n",
              "      <td>NaN</td>\n",
              "      <td>NaN</td>\n",
              "      <td>Yarra City Council</td>\n",
              "      <td>-37.8114</td>\n",
              "      <td>145.0116</td>\n",
              "      <td>Northern Metropolitan</td>\n",
              "      <td>4019.0</td>\n",
              "    </tr>\n",
              "    <tr>\n",
              "      <th>4</th>\n",
              "      <td>Abbotsford</td>\n",
              "      <td>5 Charles St</td>\n",
              "      <td>3</td>\n",
              "      <td>h</td>\n",
              "      <td>1465000.0</td>\n",
              "      <td>SP</td>\n",
              "      <td>Biggin</td>\n",
              "      <td>4/3/2017</td>\n",
              "      <td>2.5</td>\n",
              "      <td>3067.0</td>\n",
              "      <td>3.0</td>\n",
              "      <td>2.0</td>\n",
              "      <td>0.0</td>\n",
              "      <td>134.0</td>\n",
              "      <td>150.0</td>\n",
              "      <td>1900.0</td>\n",
              "      <td>Yarra City Council</td>\n",
              "      <td>-37.8093</td>\n",
              "      <td>144.9944</td>\n",
              "      <td>Northern Metropolitan</td>\n",
              "      <td>4019.0</td>\n",
              "    </tr>\n",
              "  </tbody>\n",
              "</table>\n",
              "</div>\n",
              "    <div class=\"colab-df-buttons\">\n",
              "\n",
              "  <div class=\"colab-df-container\">\n",
              "    <button class=\"colab-df-convert\" onclick=\"convertToInteractive('df-ca30a584-9a87-41ec-b4cc-77a62ef97657')\"\n",
              "            title=\"Convert this dataframe to an interactive table.\"\n",
              "            style=\"display:none;\">\n",
              "\n",
              "  <svg xmlns=\"http://www.w3.org/2000/svg\" height=\"24px\" viewBox=\"0 -960 960 960\">\n",
              "    <path d=\"M120-120v-720h720v720H120Zm60-500h600v-160H180v160Zm220 220h160v-160H400v160Zm0 220h160v-160H400v160ZM180-400h160v-160H180v160Zm440 0h160v-160H620v160ZM180-180h160v-160H180v160Zm440 0h160v-160H620v160Z\"/>\n",
              "  </svg>\n",
              "    </button>\n",
              "\n",
              "  <style>\n",
              "    .colab-df-container {\n",
              "      display:flex;\n",
              "      gap: 12px;\n",
              "    }\n",
              "\n",
              "    .colab-df-convert {\n",
              "      background-color: #E8F0FE;\n",
              "      border: none;\n",
              "      border-radius: 50%;\n",
              "      cursor: pointer;\n",
              "      display: none;\n",
              "      fill: #1967D2;\n",
              "      height: 32px;\n",
              "      padding: 0 0 0 0;\n",
              "      width: 32px;\n",
              "    }\n",
              "\n",
              "    .colab-df-convert:hover {\n",
              "      background-color: #E2EBFA;\n",
              "      box-shadow: 0px 1px 2px rgba(60, 64, 67, 0.3), 0px 1px 3px 1px rgba(60, 64, 67, 0.15);\n",
              "      fill: #174EA6;\n",
              "    }\n",
              "\n",
              "    .colab-df-buttons div {\n",
              "      margin-bottom: 4px;\n",
              "    }\n",
              "\n",
              "    [theme=dark] .colab-df-convert {\n",
              "      background-color: #3B4455;\n",
              "      fill: #D2E3FC;\n",
              "    }\n",
              "\n",
              "    [theme=dark] .colab-df-convert:hover {\n",
              "      background-color: #434B5C;\n",
              "      box-shadow: 0px 1px 3px 1px rgba(0, 0, 0, 0.15);\n",
              "      filter: drop-shadow(0px 1px 2px rgba(0, 0, 0, 0.3));\n",
              "      fill: #FFFFFF;\n",
              "    }\n",
              "  </style>\n",
              "\n",
              "    <script>\n",
              "      const buttonEl =\n",
              "        document.querySelector('#df-ca30a584-9a87-41ec-b4cc-77a62ef97657 button.colab-df-convert');\n",
              "      buttonEl.style.display =\n",
              "        google.colab.kernel.accessAllowed ? 'block' : 'none';\n",
              "\n",
              "      async function convertToInteractive(key) {\n",
              "        const element = document.querySelector('#df-ca30a584-9a87-41ec-b4cc-77a62ef97657');\n",
              "        const dataTable =\n",
              "          await google.colab.kernel.invokeFunction('convertToInteractive',\n",
              "                                                    [key], {});\n",
              "        if (!dataTable) return;\n",
              "\n",
              "        const docLinkHtml = 'Like what you see? Visit the ' +\n",
              "          '<a target=\"_blank\" href=https://colab.research.google.com/notebooks/data_table.ipynb>data table notebook</a>'\n",
              "          + ' to learn more about interactive tables.';\n",
              "        element.innerHTML = '';\n",
              "        dataTable['output_type'] = 'display_data';\n",
              "        await google.colab.output.renderOutput(dataTable, element);\n",
              "        const docLink = document.createElement('div');\n",
              "        docLink.innerHTML = docLinkHtml;\n",
              "        element.appendChild(docLink);\n",
              "      }\n",
              "    </script>\n",
              "  </div>\n",
              "\n",
              "\n",
              "<div id=\"df-9912da8f-eae8-4d0f-a783-7654ad1a4f36\">\n",
              "  <button class=\"colab-df-quickchart\" onclick=\"quickchart('df-9912da8f-eae8-4d0f-a783-7654ad1a4f36')\"\n",
              "            title=\"Suggest charts\"\n",
              "            style=\"display:none;\">\n",
              "\n",
              "<svg xmlns=\"http://www.w3.org/2000/svg\" height=\"24px\"viewBox=\"0 0 24 24\"\n",
              "     width=\"24px\">\n",
              "    <g>\n",
              "        <path d=\"M19 3H5c-1.1 0-2 .9-2 2v14c0 1.1.9 2 2 2h14c1.1 0 2-.9 2-2V5c0-1.1-.9-2-2-2zM9 17H7v-7h2v7zm4 0h-2V7h2v10zm4 0h-2v-4h2v4z\"/>\n",
              "    </g>\n",
              "</svg>\n",
              "  </button>\n",
              "\n",
              "<style>\n",
              "  .colab-df-quickchart {\n",
              "      --bg-color: #E8F0FE;\n",
              "      --fill-color: #1967D2;\n",
              "      --hover-bg-color: #E2EBFA;\n",
              "      --hover-fill-color: #174EA6;\n",
              "      --disabled-fill-color: #AAA;\n",
              "      --disabled-bg-color: #DDD;\n",
              "  }\n",
              "\n",
              "  [theme=dark] .colab-df-quickchart {\n",
              "      --bg-color: #3B4455;\n",
              "      --fill-color: #D2E3FC;\n",
              "      --hover-bg-color: #434B5C;\n",
              "      --hover-fill-color: #FFFFFF;\n",
              "      --disabled-bg-color: #3B4455;\n",
              "      --disabled-fill-color: #666;\n",
              "  }\n",
              "\n",
              "  .colab-df-quickchart {\n",
              "    background-color: var(--bg-color);\n",
              "    border: none;\n",
              "    border-radius: 50%;\n",
              "    cursor: pointer;\n",
              "    display: none;\n",
              "    fill: var(--fill-color);\n",
              "    height: 32px;\n",
              "    padding: 0;\n",
              "    width: 32px;\n",
              "  }\n",
              "\n",
              "  .colab-df-quickchart:hover {\n",
              "    background-color: var(--hover-bg-color);\n",
              "    box-shadow: 0 1px 2px rgba(60, 64, 67, 0.3), 0 1px 3px 1px rgba(60, 64, 67, 0.15);\n",
              "    fill: var(--button-hover-fill-color);\n",
              "  }\n",
              "\n",
              "  .colab-df-quickchart-complete:disabled,\n",
              "  .colab-df-quickchart-complete:disabled:hover {\n",
              "    background-color: var(--disabled-bg-color);\n",
              "    fill: var(--disabled-fill-color);\n",
              "    box-shadow: none;\n",
              "  }\n",
              "\n",
              "  .colab-df-spinner {\n",
              "    border: 2px solid var(--fill-color);\n",
              "    border-color: transparent;\n",
              "    border-bottom-color: var(--fill-color);\n",
              "    animation:\n",
              "      spin 1s steps(1) infinite;\n",
              "  }\n",
              "\n",
              "  @keyframes spin {\n",
              "    0% {\n",
              "      border-color: transparent;\n",
              "      border-bottom-color: var(--fill-color);\n",
              "      border-left-color: var(--fill-color);\n",
              "    }\n",
              "    20% {\n",
              "      border-color: transparent;\n",
              "      border-left-color: var(--fill-color);\n",
              "      border-top-color: var(--fill-color);\n",
              "    }\n",
              "    30% {\n",
              "      border-color: transparent;\n",
              "      border-left-color: var(--fill-color);\n",
              "      border-top-color: var(--fill-color);\n",
              "      border-right-color: var(--fill-color);\n",
              "    }\n",
              "    40% {\n",
              "      border-color: transparent;\n",
              "      border-right-color: var(--fill-color);\n",
              "      border-top-color: var(--fill-color);\n",
              "    }\n",
              "    60% {\n",
              "      border-color: transparent;\n",
              "      border-right-color: var(--fill-color);\n",
              "    }\n",
              "    80% {\n",
              "      border-color: transparent;\n",
              "      border-right-color: var(--fill-color);\n",
              "      border-bottom-color: var(--fill-color);\n",
              "    }\n",
              "    90% {\n",
              "      border-color: transparent;\n",
              "      border-bottom-color: var(--fill-color);\n",
              "    }\n",
              "  }\n",
              "</style>\n",
              "\n",
              "  <script>\n",
              "    async function quickchart(key) {\n",
              "      const quickchartButtonEl =\n",
              "        document.querySelector('#' + key + ' button');\n",
              "      quickchartButtonEl.disabled = true;  // To prevent multiple clicks.\n",
              "      quickchartButtonEl.classList.add('colab-df-spinner');\n",
              "      try {\n",
              "        const charts = await google.colab.kernel.invokeFunction(\n",
              "            'suggestCharts', [key], {});\n",
              "      } catch (error) {\n",
              "        console.error('Error during call to suggestCharts:', error);\n",
              "      }\n",
              "      quickchartButtonEl.classList.remove('colab-df-spinner');\n",
              "      quickchartButtonEl.classList.add('colab-df-quickchart-complete');\n",
              "    }\n",
              "    (() => {\n",
              "      let quickchartButtonEl =\n",
              "        document.querySelector('#df-9912da8f-eae8-4d0f-a783-7654ad1a4f36 button');\n",
              "      quickchartButtonEl.style.display =\n",
              "        google.colab.kernel.accessAllowed ? 'block' : 'none';\n",
              "    })();\n",
              "  </script>\n",
              "</div>\n",
              "    </div>\n",
              "  </div>\n"
            ],
            "application/vnd.google.colaboratory.intrinsic+json": {
              "type": "dataframe",
              "variable_name": "df_house_price"
            }
          },
          "metadata": {},
          "execution_count": 4
        }
      ]
    },
    {
      "cell_type": "code",
      "source": [
        "df_house_price.info()"
      ],
      "metadata": {
        "colab": {
          "base_uri": "https://localhost:8080/"
        },
        "id": "Onc5lPHyaabh",
        "outputId": "78406818-5f7b-4dd4-ef36-4e97f0214b2c"
      },
      "execution_count": 5,
      "outputs": [
        {
          "output_type": "stream",
          "name": "stdout",
          "text": [
            "<class 'pandas.core.frame.DataFrame'>\n",
            "RangeIndex: 34857 entries, 0 to 34856\n",
            "Data columns (total 21 columns):\n",
            " #   Column         Non-Null Count  Dtype  \n",
            "---  ------         --------------  -----  \n",
            " 0   Suburb         34857 non-null  object \n",
            " 1   Address        34857 non-null  object \n",
            " 2   Rooms          34857 non-null  int64  \n",
            " 3   Type           34857 non-null  object \n",
            " 4   Price          27247 non-null  float64\n",
            " 5   Method         34857 non-null  object \n",
            " 6   SellerG        34857 non-null  object \n",
            " 7   Date           34857 non-null  object \n",
            " 8   Distance       34856 non-null  float64\n",
            " 9   Postcode       34856 non-null  float64\n",
            " 10  Bedroom2       26640 non-null  float64\n",
            " 11  Bathroom       26631 non-null  float64\n",
            " 12  Car            26129 non-null  float64\n",
            " 13  Landsize       23047 non-null  float64\n",
            " 14  BuildingArea   13742 non-null  float64\n",
            " 15  YearBuilt      15551 non-null  float64\n",
            " 16  CouncilArea    34854 non-null  object \n",
            " 17  Lattitude      26881 non-null  float64\n",
            " 18  Longtitude     26881 non-null  float64\n",
            " 19  Regionname     34854 non-null  object \n",
            " 20  Propertycount  34854 non-null  float64\n",
            "dtypes: float64(12), int64(1), object(8)\n",
            "memory usage: 5.6+ MB\n"
          ]
        }
      ]
    },
    {
      "cell_type": "code",
      "source": [
        "percent_missing = df_house_price.isnull().sum() * 100 / len(df_house_price)\n",
        "percent_missing"
      ],
      "metadata": {
        "colab": {
          "base_uri": "https://localhost:8080/"
        },
        "id": "9hyizGuOaguz",
        "outputId": "93b7d249-9266-4707-aa88-9d4dcada2484"
      },
      "execution_count": 6,
      "outputs": [
        {
          "output_type": "execute_result",
          "data": {
            "text/plain": [
              "Suburb            0.000000\n",
              "Address           0.000000\n",
              "Rooms             0.000000\n",
              "Type              0.000000\n",
              "Price            21.832057\n",
              "Method            0.000000\n",
              "SellerG           0.000000\n",
              "Date              0.000000\n",
              "Distance          0.002869\n",
              "Postcode          0.002869\n",
              "Bedroom2         23.573457\n",
              "Bathroom         23.599277\n",
              "Car              25.039447\n",
              "Landsize         33.881286\n",
              "BuildingArea     60.576068\n",
              "YearBuilt        55.386293\n",
              "CouncilArea       0.008607\n",
              "Lattitude        22.882061\n",
              "Longtitude       22.882061\n",
              "Regionname        0.008607\n",
              "Propertycount     0.008607\n",
              "dtype: float64"
            ]
          },
          "metadata": {},
          "execution_count": 6
        }
      ]
    },
    {
      "cell_type": "code",
      "source": [
        "df_house_price = df_house_price.drop(['Address','Longtitude', 'Lattitude','Suburb', 'SellerG', 'CouncilArea'], axis=1)\n",
        "df_house_price.shape"
      ],
      "metadata": {
        "colab": {
          "base_uri": "https://localhost:8080/"
        },
        "id": "Dh29pILBalyj",
        "outputId": "deeb9ecc-ce24-4401-d739-d4587aee81a4"
      },
      "execution_count": 7,
      "outputs": [
        {
          "output_type": "execute_result",
          "data": {
            "text/plain": [
              "(34857, 15)"
            ]
          },
          "metadata": {},
          "execution_count": 7
        }
      ]
    },
    {
      "cell_type": "code",
      "source": [
        "df_house_price.dropna(subset=[\"Price\"], inplace=True)\n",
        "print(df_house_price.shape)\n",
        "percent_missing = df_house_price.isnull().sum() * 100 / len(df_house_price)\n",
        "percent_missing"
      ],
      "metadata": {
        "colab": {
          "base_uri": "https://localhost:8080/"
        },
        "id": "OI2xAE-OaonL",
        "outputId": "4ba26b83-a97b-42c4-a1b2-423da8f1ca70"
      },
      "execution_count": 8,
      "outputs": [
        {
          "output_type": "stream",
          "name": "stdout",
          "text": [
            "(27247, 15)\n"
          ]
        },
        {
          "output_type": "execute_result",
          "data": {
            "text/plain": [
              "Rooms             0.000000\n",
              "Type              0.000000\n",
              "Price             0.000000\n",
              "Method            0.000000\n",
              "Date              0.000000\n",
              "Distance          0.003670\n",
              "Postcode          0.003670\n",
              "Bedroom2         23.639300\n",
              "Bathroom         23.661321\n",
              "Car              25.044959\n",
              "Landsize         34.003744\n",
              "BuildingArea     60.891107\n",
              "YearBuilt        55.650163\n",
              "Regionname        0.011010\n",
              "Propertycount     0.011010\n",
              "dtype: float64"
            ]
          },
          "metadata": {},
          "execution_count": 8
        }
      ]
    },
    {
      "cell_type": "code",
      "source": [
        "df_house_price['Rooms'].plot(kind = 'hist', grid = True, title = 'Rooms')"
      ],
      "metadata": {
        "colab": {
          "base_uri": "https://localhost:8080/",
          "height": 469
        },
        "id": "3RFgZz05asIj",
        "outputId": "ab363567-27f6-419e-e5f7-9bbc9c7b8d71"
      },
      "execution_count": 9,
      "outputs": [
        {
          "output_type": "execute_result",
          "data": {
            "text/plain": [
              "<Axes: title={'center': 'Rooms'}, ylabel='Frequency'>"
            ]
          },
          "metadata": {},
          "execution_count": 9
        },
        {
          "output_type": "display_data",
          "data": {
            "text/plain": [
              "<Figure size 640x480 with 1 Axes>"
            ],
            "image/png": "[encoded data removed]"
          },
          "metadata": {}
        }
      ]
    },
    {
      "cell_type": "code",
      "source": [
        "df_house_price.describe()"
      ],
      "metadata": {
        "colab": {
          "base_uri": "https://localhost:8080/",
          "height": 300
        },
        "id": "RWcAZs5XayDT",
        "outputId": "2a44fa2a-953a-4e95-9b10-ea3d3ffd9d6b"
      },
      "execution_count": 10,
      "outputs": [
        {
          "output_type": "execute_result",
          "data": {
            "text/plain": [
              "              Rooms         Price      Distance      Postcode      Bedroom2  \\\n",
              "count  27247.000000  2.724700e+04  27246.000000  27246.000000  20806.000000   \n",
              "mean       2.992293  1.050173e+06     11.280276   3113.796080      3.046237   \n",
              "std        0.954795  6.414671e+05      6.787469    111.139676      0.955122   \n",
              "min        1.000000  8.500000e+04      0.000000   3000.000000      0.000000   \n",
              "25%        2.000000  6.350000e+05      6.400000   3046.000000      2.000000   \n",
              "50%        3.000000  8.700000e+05     10.500000   3088.000000      3.000000   \n",
              "75%        4.000000  1.295000e+06     14.000000   3153.000000      4.000000   \n",
              "max       16.000000  1.120000e+07     48.100000   3978.000000     20.000000   \n",
              "\n",
              "           Bathroom           Car       Landsize  BuildingArea     YearBuilt  \\\n",
              "count  20800.000000  20423.000000   17982.000000  10656.000000  12084.000000   \n",
              "mean       1.591683      1.715370     593.488933    156.834586   1966.609153   \n",
              "std        0.700880      0.994216    3757.266429    449.222791     36.762373   \n",
              "min        0.000000      0.000000       0.000000      0.000000   1196.000000   \n",
              "25%        1.000000      1.000000     219.000000    100.000000   1950.000000   \n",
              "50%        1.000000      2.000000     512.000000    133.000000   1970.000000   \n",
              "75%        2.000000      2.000000     664.000000    182.000000   2000.000000   \n",
              "max        9.000000     18.000000  433014.000000  44515.000000   2019.000000   \n",
              "\n",
              "       Propertycount  \n",
              "count   27244.000000  \n",
              "mean     7566.781089  \n",
              "std      4492.382418  \n",
              "min        83.000000  \n",
              "25%      4294.000000  \n",
              "50%      6567.000000  \n",
              "75%     10412.000000  \n",
              "max     21650.000000  "
            ],
            "text/html": [
              "\n",
              "  <div id=\"df-06088232-7a63-4530-b352-fc10bd8e9740\" class=\"colab-df-container\">\n",
              "    <div>\n",
              "<style scoped>\n",
              "    .dataframe tbody tr th:only-of-type {\n",
              "        vertical-align: middle;\n",
              "    }\n",
              "\n",
              "    .dataframe tbody tr th {\n",
              "        vertical-align: top;\n",
              "    }\n",
              "\n",
              "    .dataframe thead th {\n",
              "        text-align: right;\n",
              "    }\n",
              "</style>\n",
              "<table border=\"1\" class=\"dataframe\">\n",
              "  <thead>\n",
              "    <tr style=\"text-align: right;\">\n",
              "      <th></th>\n",
              "      <th>Rooms</th>\n",
              "      <th>Price</th>\n",
              "      <th>Distance</th>\n",
              "      <th>Postcode</th>\n",
              "      <th>Bedroom2</th>\n",
              "      <th>Bathroom</th>\n",
              "      <th>Car</th>\n",
              "      <th>Landsize</th>\n",
              "      <th>BuildingArea</th>\n",
              "      <th>YearBuilt</th>\n",
              "      <th>Propertycount</th>\n",
              "    </tr>\n",
              "  </thead>\n",
              "  <tbody>\n",
              "    <tr>\n",
              "      <th>count</th>\n",
              "      <td>27247.000000</td>\n",
              "      <td>2.724700e+04</td>\n",
              "      <td>27246.000000</td>\n",
              "      <td>27246.000000</td>\n",
              "      <td>20806.000000</td>\n",
              "      <td>20800.000000</td>\n",
              "      <td>20423.000000</td>\n",
              "      <td>17982.000000</td>\n",
              "      <td>10656.000000</td>\n",
              "      <td>12084.000000</td>\n",
              "      <td>27244.000000</td>\n",
              "    </tr>\n",
              "    <tr>\n",
              "      <th>mean</th>\n",
              "      <td>2.992293</td>\n",
              "      <td>1.050173e+06</td>\n",
              "      <td>11.280276</td>\n",
              "      <td>3113.796080</td>\n",
              "      <td>3.046237</td>\n",
              "      <td>1.591683</td>\n",
              "      <td>1.715370</td>\n",
              "      <td>593.488933</td>\n",
              "      <td>156.834586</td>\n",
              "      <td>1966.609153</td>\n",
              "      <td>7566.781089</td>\n",
              "    </tr>\n",
              "    <tr>\n",
              "      <th>std</th>\n",
              "      <td>0.954795</td>\n",
              "      <td>6.414671e+05</td>\n",
              "      <td>6.787469</td>\n",
              "      <td>111.139676</td>\n",
              "      <td>0.955122</td>\n",
              "      <td>0.700880</td>\n",
              "      <td>0.994216</td>\n",
              "      <td>3757.266429</td>\n",
              "      <td>449.222791</td>\n",
              "      <td>36.762373</td>\n",
              "      <td>4492.382418</td>\n",
              "    </tr>\n",
              "    <tr>\n",
              "      <th>min</th>\n",
              "      <td>1.000000</td>\n",
              "      <td>8.500000e+04</td>\n",
              "      <td>0.000000</td>\n",
              "      <td>3000.000000</td>\n",
              "      <td>0.000000</td>\n",
              "      <td>0.000000</td>\n",
              "      <td>0.000000</td>\n",
              "      <td>0.000000</td>\n",
              "      <td>0.000000</td>\n",
              "      <td>1196.000000</td>\n",
              "      <td>83.000000</td>\n",
              "    </tr>\n",
              "    <tr>\n",
              "      <th>25%</th>\n",
              "      <td>2.000000</td>\n",
              "      <td>6.350000e+05</td>\n",
              "      <td>6.400000</td>\n",
              "      <td>3046.000000</td>\n",
              "      <td>2.000000</td>\n",
              "      <td>1.000000</td>\n",
              "      <td>1.000000</td>\n",
              "      <td>219.000000</td>\n",
              "      <td>100.000000</td>\n",
              "      <td>1950.000000</td>\n",
              "      <td>4294.000000</td>\n",
              "    </tr>\n",
              "    <tr>\n",
              "      <th>50%</th>\n",
              "      <td>3.000000</td>\n",
              "      <td>8.700000e+05</td>\n",
              "      <td>10.500000</td>\n",
              "      <td>3088.000000</td>\n",
              "      <td>3.000000</td>\n",
              "      <td>1.000000</td>\n",
              "      <td>2.000000</td>\n",
              "      <td>512.000000</td>\n",
              "      <td>133.000000</td>\n",
              "      <td>1970.000000</td>\n",
              "      <td>6567.000000</td>\n",
              "    </tr>\n",
              "    <tr>\n",
              "      <th>75%</th>\n",
              "      <td>4.000000</td>\n",
              "      <td>1.295000e+06</td>\n",
              "      <td>14.000000</td>\n",
              "      <td>3153.000000</td>\n",
              "      <td>4.000000</td>\n",
              "      <td>2.000000</td>\n",
              "      <td>2.000000</td>\n",
              "      <td>664.000000</td>\n",
              "      <td>182.000000</td>\n",
              "      <td>2000.000000</td>\n",
              "      <td>10412.000000</td>\n",
              "    </tr>\n",
              "    <tr>\n",
              "      <th>max</th>\n",
              "      <td>16.000000</td>\n",
              "      <td>1.120000e+07</td>\n",
              "      <td>48.100000</td>\n",
              "      <td>3978.000000</td>\n",
              "      <td>20.000000</td>\n",
              "      <td>9.000000</td>\n",
              "      <td>18.000000</td>\n",
              "      <td>433014.000000</td>\n",
              "      <td>44515.000000</td>\n",
              "      <td>2019.000000</td>\n",
              "      <td>21650.000000</td>\n",
              "    </tr>\n",
              "  </tbody>\n",
              "</table>\n",
              "</div>\n",
              "    <div class=\"colab-df-buttons\">\n",
              "\n",
              "  <div class=\"colab-df-container\">\n",
              "    <button class=\"colab-df-convert\" onclick=\"convertToInteractive('df-06088232-7a63-4530-b352-fc10bd8e9740')\"\n",
              "            title=\"Convert this dataframe to an interactive table.\"\n",
              "            style=\"display:none;\">\n",
              "\n",
              "  <svg xmlns=\"http://www.w3.org/2000/svg\" height=\"24px\" viewBox=\"0 -960 960 960\">\n",
              "    <path d=\"M120-120v-720h720v720H120Zm60-500h600v-160H180v160Zm220 220h160v-160H400v160Zm0 220h160v-160H400v160ZM180-400h160v-160H180v160Zm440 0h160v-160H620v160ZM180-180h160v-160H180v160Zm440 0h160v-160H620v160Z\"/>\n",
              "  </svg>\n",
              "    </button>\n",
              "\n",
              "  <style>\n",
              "    .colab-df-container {\n",
              "      display:flex;\n",
              "      gap: 12px;\n",
              "    }\n",
              "\n",
              "    .colab-df-convert {\n",
              "      background-color: #E8F0FE;\n",
              "      border: none;\n",
              "      border-radius: 50%;\n",
              "      cursor: pointer;\n",
              "      display: none;\n",
              "      fill: #1967D2;\n",
              "      height: 32px;\n",
              "      padding: 0 0 0 0;\n",
              "      width: 32px;\n",
              "    }\n",
              "\n",
              "    .colab-df-convert:hover {\n",
              "      background-color: #E2EBFA;\n",
              "      box-shadow: 0px 1px 2px rgba(60, 64, 67, 0.3), 0px 1px 3px 1px rgba(60, 64, 67, 0.15);\n",
              "      fill: #174EA6;\n",
              "    }\n",
              "\n",
              "    .colab-df-buttons div {\n",
              "      margin-bottom: 4px;\n",
              "    }\n",
              "\n",
              "    [theme=dark] .colab-df-convert {\n",
              "      background-color: #3B4455;\n",
              "      fill: #D2E3FC;\n",
              "    }\n",
              "\n",
              "    [theme=dark] .colab-df-convert:hover {\n",
              "      background-color: #434B5C;\n",
              "      box-shadow: 0px 1px 3px 1px rgba(0, 0, 0, 0.15);\n",
              "      filter: drop-shadow(0px 1px 2px rgba(0, 0, 0, 0.3));\n",
              "      fill: #FFFFFF;\n",
              "    }\n",
              "  </style>\n",
              "\n",
              "    <script>\n",
              "      const buttonEl =\n",
              "        document.querySelector('#df-06088232-7a63-4530-b352-fc10bd8e9740 button.colab-df-convert');\n",
              "      buttonEl.style.display =\n",
              "        google.colab.kernel.accessAllowed ? 'block' : 'none';\n",
              "\n",
              "      async function convertToInteractive(key) {\n",
              "        const element = document.querySelector('#df-06088232-7a63-4530-b352-fc10bd8e9740');\n",
              "        const dataTable =\n",
              "          await google.colab.kernel.invokeFunction('convertToInteractive',\n",
              "                                                    [key], {});\n",
              "        if (!dataTable) return;\n",
              "\n",
              "        const docLinkHtml = 'Like what you see? Visit the ' +\n",
              "          '<a target=\"_blank\" href=https://colab.research.google.com/notebooks/data_table.ipynb>data table notebook</a>'\n",
              "          + ' to learn more about interactive tables.';\n",
              "        element.innerHTML = '';\n",
              "        dataTable['output_type'] = 'display_data';\n",
              "        await google.colab.output.renderOutput(dataTable, element);\n",
              "        const docLink = document.createElement('div');\n",
              "        docLink.innerHTML = docLinkHtml;\n",
              "        element.appendChild(docLink);\n",
              "      }\n",
              "    </script>\n",
              "  </div>\n",
              "\n",
              "\n",
              "<div id=\"df-1ed2675f-292b-4448-a71b-c8e6eebe3ae4\">\n",
              "  <button class=\"colab-df-quickchart\" onclick=\"quickchart('df-1ed2675f-292b-4448-a71b-c8e6eebe3ae4')\"\n",
              "            title=\"Suggest charts\"\n",
              "            style=\"display:none;\">\n",
              "\n",
              "<svg xmlns=\"http://www.w3.org/2000/svg\" height=\"24px\"viewBox=\"0 0 24 24\"\n",
              "     width=\"24px\">\n",
              "    <g>\n",
              "        <path d=\"M19 3H5c-1.1 0-2 .9-2 2v14c0 1.1.9 2 2 2h14c1.1 0 2-.9 2-2V5c0-1.1-.9-2-2-2zM9 17H7v-7h2v7zm4 0h-2V7h2v10zm4 0h-2v-4h2v4z\"/>\n",
              "    </g>\n",
              "</svg>\n",
              "  </button>\n",
              "\n",
              "<style>\n",
              "  .colab-df-quickchart {\n",
              "      --bg-color: #E8F0FE;\n",
              "      --fill-color: #1967D2;\n",
              "      --hover-bg-color: #E2EBFA;\n",
              "      --hover-fill-color: #174EA6;\n",
              "      --disabled-fill-color: #AAA;\n",
              "      --disabled-bg-color: #DDD;\n",
              "  }\n",
              "\n",
              "  [theme=dark] .colab-df-quickchart {\n",
              "      --bg-color: #3B4455;\n",
              "      --fill-color: #D2E3FC;\n",
              "      --hover-bg-color: #434B5C;\n",
              "      --hover-fill-color: #FFFFFF;\n",
              "      --disabled-bg-color: #3B4455;\n",
              "      --disabled-fill-color: #666;\n",
              "  }\n",
              "\n",
              "  .colab-df-quickchart {\n",
              "    background-color: var(--bg-color);\n",
              "    border: none;\n",
              "    border-radius: 50%;\n",
              "    cursor: pointer;\n",
              "    display: none;\n",
              "    fill: var(--fill-color);\n",
              "    height: 32px;\n",
              "    padding: 0;\n",
              "    width: 32px;\n",
              "  }\n",
              "\n",
              "  .colab-df-quickchart:hover {\n",
              "    background-color: var(--hover-bg-color);\n",
              "    box-shadow: 0 1px 2px rgba(60, 64, 67, 0.3), 0 1px 3px 1px rgba(60, 64, 67, 0.15);\n",
              "    fill: var(--button-hover-fill-color);\n",
              "  }\n",
              "\n",
              "  .colab-df-quickchart-complete:disabled,\n",
              "  .colab-df-quickchart-complete:disabled:hover {\n",
              "    background-color: var(--disabled-bg-color);\n",
              "    fill: var(--disabled-fill-color);\n",
              "    box-shadow: none;\n",
              "  }\n",
              "\n",
              "  .colab-df-spinner {\n",
              "    border: 2px solid var(--fill-color);\n",
              "    border-color: transparent;\n",
              "    border-bottom-color: var(--fill-color);\n",
              "    animation:\n",
              "      spin 1s steps(1) infinite;\n",
              "  }\n",
              "\n",
              "  @keyframes spin {\n",
              "    0% {\n",
              "      border-color: transparent;\n",
              "      border-bottom-color: var(--fill-color);\n",
              "      border-left-color: var(--fill-color);\n",
              "    }\n",
              "    20% {\n",
              "      border-color: transparent;\n",
              "      border-left-color: var(--fill-color);\n",
              "      border-top-color: var(--fill-color);\n",
              "    }\n",
              "    30% {\n",
              "      border-color: transparent;\n",
              "      border-left-color: var(--fill-color);\n",
              "      border-top-color: var(--fill-color);\n",
              "      border-right-color: var(--fill-color);\n",
              "    }\n",
              "    40% {\n",
              "      border-color: transparent;\n",
              "      border-right-color: var(--fill-color);\n",
              "      border-top-color: var(--fill-color);\n",
              "    }\n",
              "    60% {\n",
              "      border-color: transparent;\n",
              "      border-right-color: var(--fill-color);\n",
              "    }\n",
              "    80% {\n",
              "      border-color: transparent;\n",
              "      border-right-color: var(--fill-color);\n",
              "      border-bottom-color: var(--fill-color);\n",
              "    }\n",
              "    90% {\n",
              "      border-color: transparent;\n",
              "      border-bottom-color: var(--fill-color);\n",
              "    }\n",
              "  }\n",
              "</style>\n",
              "\n",
              "  <script>\n",
              "    async function quickchart(key) {\n",
              "      const quickchartButtonEl =\n",
              "        document.querySelector('#' + key + ' button');\n",
              "      quickchartButtonEl.disabled = true;  // To prevent multiple clicks.\n",
              "      quickchartButtonEl.classList.add('colab-df-spinner');\n",
              "      try {\n",
              "        const charts = await google.colab.kernel.invokeFunction(\n",
              "            'suggestCharts', [key], {});\n",
              "      } catch (error) {\n",
              "        console.error('Error during call to suggestCharts:', error);\n",
              "      }\n",
              "      quickchartButtonEl.classList.remove('colab-df-spinner');\n",
              "      quickchartButtonEl.classList.add('colab-df-quickchart-complete');\n",
              "    }\n",
              "    (() => {\n",
              "      let quickchartButtonEl =\n",
              "        document.querySelector('#df-1ed2675f-292b-4448-a71b-c8e6eebe3ae4 button');\n",
              "      quickchartButtonEl.style.display =\n",
              "        google.colab.kernel.accessAllowed ? 'block' : 'none';\n",
              "    })();\n",
              "  </script>\n",
              "</div>\n",
              "    </div>\n",
              "  </div>\n"
            ],
            "application/vnd.google.colaboratory.intrinsic+json": {
              "type": "dataframe",
              "summary": "{\n  \"name\": \"df_house_price\",\n  \"rows\": 8,\n  \"fields\": [\n    {\n      \"column\": \"Rooms\",\n      \"properties\": {\n        \"dtype\": \"number\",\n        \"std\": 9631.757921139902,\n        \"min\": 0.9547952950194295,\n        \"max\": 27247.0,\n        \"num_unique_values\": 8,\n        \"samples\": [\n          2.9922927294748045,\n          3.0,\n          27247.0\n        ],\n        \"semantic_type\": \"\",\n        \"description\": \"\"\n      }\n    },\n    {\n      \"column\": \"Price\",\n      \"properties\": {\n        \"dtype\": \"number\",\n        \"std\": 3752696.2519714427,\n        \"min\": 27247.0,\n        \"max\": 11200000.0,\n        \"num_unique_values\": 8,\n        \"samples\": [\n          1050173.344955408,\n          870000.0,\n          27247.0\n        ],\n        \"semantic_type\": \"\",\n        \"description\": \"\"\n      }\n    },\n    {\n      \"column\": \"Distance\",\n      \"properties\": {\n        \"dtype\": \"number\",\n        \"std\": 9628.024058674491,\n        \"min\": 0.0,\n        \"max\": 27246.0,\n        \"num_unique_values\": 8,\n        \"samples\": [\n          11.280276003817074,\n          10.5,\n          27246.0\n        ],\n        \"semantic_type\": \"\",\n        \"description\": \"\"\n      }\n    },\n    {\n      \"column\": \"Postcode\",\n      \"properties\": {\n        \"dtype\": \"number\",\n        \"std\": 8722.723900264675,\n        \"min\": 111.1396759284226,\n        \"max\": 27246.0,\n        \"num_unique_values\": 8,\n        \"samples\": [\n          3113.7960801585555,\n          3088.0,\n          27246.0\n        ],\n        \"semantic_type\": \"\",\n        \"description\": \"\"\n      }\n    },\n    {\n      \"column\": \"Bedroom2\",\n      \"properties\": {\n        \"dtype\": \"number\",\n        \"std\": 7354.367778883736,\n        \"min\": 0.0,\n        \"max\": 20806.0,\n        \"num_unique_values\": 8,\n        \"samples\": [\n          3.0462366625012014,\n          3.0,\n          20806.0\n        ],\n        \"semantic_type\": \"\",\n        \"description\": \"\"\n      }\n    },\n    {\n      \"column\": \"Bathroom\",\n      \"properties\": {\n        \"dtype\": \"number\",\n        \"std\": 7353.138683232783,\n        \"min\": 0.0,\n        \"max\": 20800.0,\n        \"num_unique_values\": 7,\n        \"samples\": [\n          20800.0,\n          1.5916826923076923,\n          2.0\n        ],\n        \"semantic_type\": \"\",\n        \"description\": \"\"\n      }\n    },\n    {\n      \"column\": \"Car\",\n      \"properties\": {\n        \"dtype\": \"number\",\n        \"std\": 7219.324765262033,\n        \"min\": 0.0,\n        \"max\": 20423.0,\n        \"num_unique_values\": 7,\n        \"samples\": [\n          20423.0,\n          1.7153699260637516,\n          2.0\n        ],\n        \"semantic_type\": \"\",\n        \"description\": \"\"\n      }\n    },\n    {\n      \"column\": \"Landsize\",\n      \"properties\": {\n        \"dtype\": \"number\",\n        \"std\": 152016.47839002393,\n        \"min\": 0.0,\n        \"max\": 433014.0,\n        \"num_unique_values\": 8,\n        \"samples\": [\n          593.4889333778223,\n          512.0,\n          17982.0\n        ],\n        \"semantic_type\": \"\",\n        \"description\": \"\"\n      }\n    },\n    {\n      \"column\": \"BuildingArea\",\n      \"properties\": {\n        \"dtype\": \"number\",\n        \"std\": 15587.217098740826,\n        \"min\": 0.0,\n        \"max\": 44515.0,\n        \"num_unique_values\": 8,\n        \"samples\": [\n          156.83458555743243,\n          133.0,\n          10656.0\n        ],\n        \"semantic_type\": \"\",\n        \"description\": \"\"\n      }\n    },\n    {\n      \"column\": \"YearBuilt\",\n      \"properties\": {\n        \"dtype\": \"number\",\n        \"std\": 3773.4470527979893,\n        \"min\": 36.76237302581721,\n        \"max\": 12084.0,\n        \"num_unique_values\": 8,\n        \"samples\": [\n          1966.6091525984773,\n          1970.0,\n          12084.0\n        ],\n        \"semantic_type\": \"\",\n        \"description\": \"\"\n      }\n    },\n    {\n      \"column\": \"Propertycount\",\n      \"properties\": {\n        \"dtype\": \"number\",\n        \"std\": 9346.706602444154,\n        \"min\": 83.0,\n        \"max\": 27244.0,\n        \"num_unique_values\": 8,\n        \"samples\": [\n          7566.781089414183,\n          6567.0,\n          27244.0\n        ],\n        \"semantic_type\": \"\",\n        \"description\": \"\"\n      }\n    }\n  ]\n}"
            }
          },
          "metadata": {},
          "execution_count": 10
        }
      ]
    },
    {
      "cell_type": "code",
      "source": [
        "df_house_price['Rooms'].value_counts()"
      ],
      "metadata": {
        "colab": {
          "base_uri": "https://localhost:8080/"
        },
        "id": "f1BHSpqvazsU",
        "outputId": "9f59cdf1-5eaa-44c5-d005-9f4e9f4495c0"
      },
      "execution_count": 11,
      "outputs": [
        {
          "output_type": "execute_result",
          "data": {
            "text/plain": [
              "Rooms\n",
              "3     11957\n",
              "2      6787\n",
              "4      5918\n",
              "5      1209\n",
              "1      1196\n",
              "6       137\n",
              "7        20\n",
              "8        14\n",
              "10        5\n",
              "12        2\n",
              "9         1\n",
              "16        1\n",
              "Name: count, dtype: int64"
            ]
          },
          "metadata": {},
          "execution_count": 11
        }
      ]
    },
    {
      "cell_type": "code",
      "source": [
        "df_house_price['Price'].head()"
      ],
      "metadata": {
        "colab": {
          "base_uri": "https://localhost:8080/"
        },
        "id": "y4lcvRXja4PD",
        "outputId": "1766c755-b958-4a66-b7dd-3a8e81e503d0"
      },
      "execution_count": 12,
      "outputs": [
        {
          "output_type": "execute_result",
          "data": {
            "text/plain": [
              "1    1480000.0\n",
              "2    1035000.0\n",
              "4    1465000.0\n",
              "5     850000.0\n",
              "6    1600000.0\n",
              "Name: Price, dtype: float64"
            ]
          },
          "metadata": {},
          "execution_count": 12
        }
      ]
    },
    {
      "cell_type": "code",
      "source": [
        "df_house_price.loc[df_house_price['Bedroom2'] == 20]"
      ],
      "metadata": {
        "colab": {
          "base_uri": "https://localhost:8080/",
          "height": 81
        },
        "id": "Ti7JmdRta54h",
        "outputId": "7189edfe-60a3-4863-8526-69f56721b40b"
      },
      "execution_count": 13,
      "outputs": [
        {
          "output_type": "execute_result",
          "data": {
            "text/plain": [
              "       Rooms Type      Price Method      Date  Distance  Postcode  Bedroom2  \\\n",
              "12043      3    h  1650000.0     PI  6/8/2016       9.3    3145.0      20.0   \n",
              "\n",
              "       Bathroom  Car  Landsize  BuildingArea  YearBuilt  \\\n",
              "12043       1.0  2.0     875.0           NaN        NaN   \n",
              "\n",
              "                  Regionname  Propertycount  \n",
              "12043  Southern Metropolitan          608.0  "
            ],
            "text/html": [
              "\n",
              "  <div id=\"df-f76d61fe-f54d-486e-9967-25ca78afa467\" class=\"colab-df-container\">\n",
              "    <div>\n",
              "<style scoped>\n",
              "    .dataframe tbody tr th:only-of-type {\n",
              "        vertical-align: middle;\n",
              "    }\n",
              "\n",
              "    .dataframe tbody tr th {\n",
              "        vertical-align: top;\n",
              "    }\n",
              "\n",
              "    .dataframe thead th {\n",
              "        text-align: right;\n",
              "    }\n",
              "</style>\n",
              "<table border=\"1\" class=\"dataframe\">\n",
              "  <thead>\n",
              "    <tr style=\"text-align: right;\">\n",
              "      <th></th>\n",
              "      <th>Rooms</th>\n",
              "      <th>Type</th>\n",
              "      <th>Price</th>\n",
              "      <th>Method</th>\n",
              "      <th>Date</th>\n",
              "      <th>Distance</th>\n",
              "      <th>Postcode</th>\n",
              "      <th>Bedroom2</th>\n",
              "      <th>Bathroom</th>\n",
              "      <th>Car</th>\n",
              "      <th>Landsize</th>\n",
              "      <th>BuildingArea</th>\n",
              "      <th>YearBuilt</th>\n",
              "      <th>Regionname</th>\n",
              "      <th>Propertycount</th>\n",
              "    </tr>\n",
              "  </thead>\n",
              "  <tbody>\n",
              "    <tr>\n",
              "      <th>12043</th>\n",
              "      <td>3</td>\n",
              "      <td>h</td>\n",
              "      <td>1650000.0</td>\n",
              "      <td>PI</td>\n",
              "      <td>6/8/2016</td>\n",
              "      <td>9.3</td>\n",
              "      <td>3145.0</td>\n",
              "      <td>20.0</td>\n",
              "      <td>1.0</td>\n",
              "      <td>2.0</td>\n",
              "      <td>875.0</td>\n",
              "      <td>NaN</td>\n",
              "      <td>NaN</td>\n",
              "      <td>Southern Metropolitan</td>\n",
              "      <td>608.0</td>\n",
              "    </tr>\n",
              "  </tbody>\n",
              "</table>\n",
              "</div>\n",
              "    <div class=\"colab-df-buttons\">\n",
              "\n",
              "  <div class=\"colab-df-container\">\n",
              "    <button class=\"colab-df-convert\" onclick=\"convertToInteractive('df-f76d61fe-f54d-486e-9967-25ca78afa467')\"\n",
              "            title=\"Convert this dataframe to an interactive table.\"\n",
              "            style=\"display:none;\">\n",
              "\n",
              "  <svg xmlns=\"http://www.w3.org/2000/svg\" height=\"24px\" viewBox=\"0 -960 960 960\">\n",
              "    <path d=\"M120-120v-720h720v720H120Zm60-500h600v-160H180v160Zm220 220h160v-160H400v160Zm0 220h160v-160H400v160ZM180-400h160v-160H180v160Zm440 0h160v-160H620v160ZM180-180h160v-160H180v160Zm440 0h160v-160H620v160Z\"/>\n",
              "  </svg>\n",
              "    </button>\n",
              "\n",
              "  <style>\n",
              "    .colab-df-container {\n",
              "      display:flex;\n",
              "      gap: 12px;\n",
              "    }\n",
              "\n",
              "    .colab-df-convert {\n",
              "      background-color: #E8F0FE;\n",
              "      border: none;\n",
              "      border-radius: 50%;\n",
              "      cursor: pointer;\n",
              "      display: none;\n",
              "      fill: #1967D2;\n",
              "      height: 32px;\n",
              "      padding: 0 0 0 0;\n",
              "      width: 32px;\n",
              "    }\n",
              "\n",
              "    .colab-df-convert:hover {\n",
              "      background-color: #E2EBFA;\n",
              "      box-shadow: 0px 1px 2px rgba(60, 64, 67, 0.3), 0px 1px 3px 1px rgba(60, 64, 67, 0.15);\n",
              "      fill: #174EA6;\n",
              "    }\n",
              "\n",
              "    .colab-df-buttons div {\n",
              "      margin-bottom: 4px;\n",
              "    }\n",
              "\n",
              "    [theme=dark] .colab-df-convert {\n",
              "      background-color: #3B4455;\n",
              "      fill: #D2E3FC;\n",
              "    }\n",
              "\n",
              "    [theme=dark] .colab-df-convert:hover {\n",
              "      background-color: #434B5C;\n",
              "      box-shadow: 0px 1px 3px 1px rgba(0, 0, 0, 0.15);\n",
              "      filter: drop-shadow(0px 1px 2px rgba(0, 0, 0, 0.3));\n",
              "      fill: #FFFFFF;\n",
              "    }\n",
              "  </style>\n",
              "\n",
              "    <script>\n",
              "      const buttonEl =\n",
              "        document.querySelector('#df-f76d61fe-f54d-486e-9967-25ca78afa467 button.colab-df-convert');\n",
              "      buttonEl.style.display =\n",
              "        google.colab.kernel.accessAllowed ? 'block' : 'none';\n",
              "\n",
              "      async function convertToInteractive(key) {\n",
              "        const element = document.querySelector('#df-f76d61fe-f54d-486e-9967-25ca78afa467');\n",
              "        const dataTable =\n",
              "          await google.colab.kernel.invokeFunction('convertToInteractive',\n",
              "                                                    [key], {});\n",
              "        if (!dataTable) return;\n",
              "\n",
              "        const docLinkHtml = 'Like what you see? Visit the ' +\n",
              "          '<a target=\"_blank\" href=https://colab.research.google.com/notebooks/data_table.ipynb>data table notebook</a>'\n",
              "          + ' to learn more about interactive tables.';\n",
              "        element.innerHTML = '';\n",
              "        dataTable['output_type'] = 'display_data';\n",
              "        await google.colab.output.renderOutput(dataTable, element);\n",
              "        const docLink = document.createElement('div');\n",
              "        docLink.innerHTML = docLinkHtml;\n",
              "        element.appendChild(docLink);\n",
              "      }\n",
              "    </script>\n",
              "  </div>\n",
              "\n",
              "    </div>\n",
              "  </div>\n"
            ],
            "application/vnd.google.colaboratory.intrinsic+json": {
              "type": "dataframe",
              "repr_error": "0"
            }
          },
          "metadata": {},
          "execution_count": 13
        }
      ]
    },
    {
      "cell_type": "code",
      "source": [
        "df_house_price.loc[df_house_price['Bedroom2'] == 30]"
      ],
      "metadata": {
        "colab": {
          "base_uri": "https://localhost:8080/",
          "height": 53
        },
        "id": "zCczGqqja8jx",
        "outputId": "baddec1a-d3ea-47b6-a368-85b81ae4f19c"
      },
      "execution_count": 14,
      "outputs": [
        {
          "output_type": "execute_result",
          "data": {
            "text/plain": [
              "Empty DataFrame\n",
              "Columns: [Rooms, Type, Price, Method, Date, Distance, Postcode, Bedroom2, Bathroom, Car, Landsize, BuildingArea, YearBuilt, Regionname, Propertycount]\n",
              "Index: []"
            ],
            "text/html": [
              "\n",
              "  <div id=\"df-a218c540-450c-4b29-a3b6-8b0c83e9e550\" class=\"colab-df-container\">\n",
              "    <div>\n",
              "<style scoped>\n",
              "    .dataframe tbody tr th:only-of-type {\n",
              "        vertical-align: middle;\n",
              "    }\n",
              "\n",
              "    .dataframe tbody tr th {\n",
              "        vertical-align: top;\n",
              "    }\n",
              "\n",
              "    .dataframe thead th {\n",
              "        text-align: right;\n",
              "    }\n",
              "</style>\n",
              "<table border=\"1\" class=\"dataframe\">\n",
              "  <thead>\n",
              "    <tr style=\"text-align: right;\">\n",
              "      <th></th>\n",
              "      <th>Rooms</th>\n",
              "      <th>Type</th>\n",
              "      <th>Price</th>\n",
              "      <th>Method</th>\n",
              "      <th>Date</th>\n",
              "      <th>Distance</th>\n",
              "      <th>Postcode</th>\n",
              "      <th>Bedroom2</th>\n",
              "      <th>Bathroom</th>\n",
              "      <th>Car</th>\n",
              "      <th>Landsize</th>\n",
              "      <th>BuildingArea</th>\n",
              "      <th>YearBuilt</th>\n",
              "      <th>Regionname</th>\n",
              "      <th>Propertycount</th>\n",
              "    </tr>\n",
              "  </thead>\n",
              "  <tbody>\n",
              "  </tbody>\n",
              "</table>\n",
              "</div>\n",
              "    <div class=\"colab-df-buttons\">\n",
              "\n",
              "  <div class=\"colab-df-container\">\n",
              "    <button class=\"colab-df-convert\" onclick=\"convertToInteractive('df-a218c540-450c-4b29-a3b6-8b0c83e9e550')\"\n",
              "            title=\"Convert this dataframe to an interactive table.\"\n",
              "            style=\"display:none;\">\n",
              "\n",
              "  <svg xmlns=\"http://www.w3.org/2000/svg\" height=\"24px\" viewBox=\"0 -960 960 960\">\n",
              "    <path d=\"M120-120v-720h720v720H120Zm60-500h600v-160H180v160Zm220 220h160v-160H400v160Zm0 220h160v-160H400v160ZM180-400h160v-160H180v160Zm440 0h160v-160H620v160ZM180-180h160v-160H180v160Zm440 0h160v-160H620v160Z\"/>\n",
              "  </svg>\n",
              "    </button>\n",
              "\n",
              "  <style>\n",
              "    .colab-df-container {\n",
              "      display:flex;\n",
              "      gap: 12px;\n",
              "    }\n",
              "\n",
              "    .colab-df-convert {\n",
              "      background-color: #E8F0FE;\n",
              "      border: none;\n",
              "      border-radius: 50%;\n",
              "      cursor: pointer;\n",
              "      display: none;\n",
              "      fill: #1967D2;\n",
              "      height: 32px;\n",
              "      padding: 0 0 0 0;\n",
              "      width: 32px;\n",
              "    }\n",
              "\n",
              "    .colab-df-convert:hover {\n",
              "      background-color: #E2EBFA;\n",
              "      box-shadow: 0px 1px 2px rgba(60, 64, 67, 0.3), 0px 1px 3px 1px rgba(60, 64, 67, 0.15);\n",
              "      fill: #174EA6;\n",
              "    }\n",
              "\n",
              "    .colab-df-buttons div {\n",
              "      margin-bottom: 4px;\n",
              "    }\n",
              "\n",
              "    [theme=dark] .colab-df-convert {\n",
              "      background-color: #3B4455;\n",
              "      fill: #D2E3FC;\n",
              "    }\n",
              "\n",
              "    [theme=dark] .colab-df-convert:hover {\n",
              "      background-color: #434B5C;\n",
              "      box-shadow: 0px 1px 3px 1px rgba(0, 0, 0, 0.15);\n",
              "      filter: drop-shadow(0px 1px 2px rgba(0, 0, 0, 0.3));\n",
              "      fill: #FFFFFF;\n",
              "    }\n",
              "  </style>\n",
              "\n",
              "    <script>\n",
              "      const buttonEl =\n",
              "        document.querySelector('#df-a218c540-450c-4b29-a3b6-8b0c83e9e550 button.colab-df-convert');\n",
              "      buttonEl.style.display =\n",
              "        google.colab.kernel.accessAllowed ? 'block' : 'none';\n",
              "\n",
              "      async function convertToInteractive(key) {\n",
              "        const element = document.querySelector('#df-a218c540-450c-4b29-a3b6-8b0c83e9e550');\n",
              "        const dataTable =\n",
              "          await google.colab.kernel.invokeFunction('convertToInteractive',\n",
              "                                                    [key], {});\n",
              "        if (!dataTable) return;\n",
              "\n",
              "        const docLinkHtml = 'Like what you see? Visit the ' +\n",
              "          '<a target=\"_blank\" href=https://colab.research.google.com/notebooks/data_table.ipynb>data table notebook</a>'\n",
              "          + ' to learn more about interactive tables.';\n",
              "        element.innerHTML = '';\n",
              "        dataTable['output_type'] = 'display_data';\n",
              "        await google.colab.output.renderOutput(dataTable, element);\n",
              "        const docLink = document.createElement('div');\n",
              "        docLink.innerHTML = docLinkHtml;\n",
              "        element.appendChild(docLink);\n",
              "      }\n",
              "    </script>\n",
              "  </div>\n",
              "\n",
              "    </div>\n",
              "  </div>\n"
            ],
            "application/vnd.google.colaboratory.intrinsic+json": {
              "type": "dataframe",
              "repr_error": "Out of range float values are not JSON compliant: nan"
            }
          },
          "metadata": {},
          "execution_count": 14
        }
      ]
    },
    {
      "cell_type": "code",
      "source": [
        "df_house_price.loc[df_house_price['Bedroom2'] == 16]"
      ],
      "metadata": {
        "colab": {
          "base_uri": "https://localhost:8080/",
          "height": 81
        },
        "id": "LSOniDqSa-ux",
        "outputId": "af043966-1f35-4686-d6e8-738ec8c4cd9a"
      },
      "execution_count": 15,
      "outputs": [
        {
          "output_type": "execute_result",
          "data": {
            "text/plain": [
              "       Rooms Type      Price Method        Date  Distance  Postcode  Bedroom2  \\\n",
              "26210     16    h  5000000.0      S  28/10/2017      17.2    3132.0      16.0   \n",
              "\n",
              "       Bathroom  Car  Landsize  BuildingArea  YearBuilt            Regionname  \\\n",
              "26210       8.0  8.0       NaN           NaN        NaN  Eastern Metropolitan   \n",
              "\n",
              "       Propertycount  \n",
              "26210         6871.0  "
            ],
            "text/html": [
              "\n",
              "  <div id=\"df-515278e7-9abb-4d61-a32f-3d6894c0c33e\" class=\"colab-df-container\">\n",
              "    <div>\n",
              "<style scoped>\n",
              "    .dataframe tbody tr th:only-of-type {\n",
              "        vertical-align: middle;\n",
              "    }\n",
              "\n",
              "    .dataframe tbody tr th {\n",
              "        vertical-align: top;\n",
              "    }\n",
              "\n",
              "    .dataframe thead th {\n",
              "        text-align: right;\n",
              "    }\n",
              "</style>\n",
              "<table border=\"1\" class=\"dataframe\">\n",
              "  <thead>\n",
              "    <tr style=\"text-align: right;\">\n",
              "      <th></th>\n",
              "      <th>Rooms</th>\n",
              "      <th>Type</th>\n",
              "      <th>Price</th>\n",
              "      <th>Method</th>\n",
              "      <th>Date</th>\n",
              "      <th>Distance</th>\n",
              "      <th>Postcode</th>\n",
              "      <th>Bedroom2</th>\n",
              "      <th>Bathroom</th>\n",
              "      <th>Car</th>\n",
              "      <th>Landsize</th>\n",
              "      <th>BuildingArea</th>\n",
              "      <th>YearBuilt</th>\n",
              "      <th>Regionname</th>\n",
              "      <th>Propertycount</th>\n",
              "    </tr>\n",
              "  </thead>\n",
              "  <tbody>\n",
              "    <tr>\n",
              "      <th>26210</th>\n",
              "      <td>16</td>\n",
              "      <td>h</td>\n",
              "      <td>5000000.0</td>\n",
              "      <td>S</td>\n",
              "      <td>28/10/2017</td>\n",
              "      <td>17.2</td>\n",
              "      <td>3132.0</td>\n",
              "      <td>16.0</td>\n",
              "      <td>8.0</td>\n",
              "      <td>8.0</td>\n",
              "      <td>NaN</td>\n",
              "      <td>NaN</td>\n",
              "      <td>NaN</td>\n",
              "      <td>Eastern Metropolitan</td>\n",
              "      <td>6871.0</td>\n",
              "    </tr>\n",
              "  </tbody>\n",
              "</table>\n",
              "</div>\n",
              "    <div class=\"colab-df-buttons\">\n",
              "\n",
              "  <div class=\"colab-df-container\">\n",
              "    <button class=\"colab-df-convert\" onclick=\"convertToInteractive('df-515278e7-9abb-4d61-a32f-3d6894c0c33e')\"\n",
              "            title=\"Convert this dataframe to an interactive table.\"\n",
              "            style=\"display:none;\">\n",
              "\n",
              "  <svg xmlns=\"http://www.w3.org/2000/svg\" height=\"24px\" viewBox=\"0 -960 960 960\">\n",
              "    <path d=\"M120-120v-720h720v720H120Zm60-500h600v-160H180v160Zm220 220h160v-160H400v160Zm0 220h160v-160H400v160ZM180-400h160v-160H180v160Zm440 0h160v-160H620v160ZM180-180h160v-160H180v160Zm440 0h160v-160H620v160Z\"/>\n",
              "  </svg>\n",
              "    </button>\n",
              "\n",
              "  <style>\n",
              "    .colab-df-container {\n",
              "      display:flex;\n",
              "      gap: 12px;\n",
              "    }\n",
              "\n",
              "    .colab-df-convert {\n",
              "      background-color: #E8F0FE;\n",
              "      border: none;\n",
              "      border-radius: 50%;\n",
              "      cursor: pointer;\n",
              "      display: none;\n",
              "      fill: #1967D2;\n",
              "      height: 32px;\n",
              "      padding: 0 0 0 0;\n",
              "      width: 32px;\n",
              "    }\n",
              "\n",
              "    .colab-df-convert:hover {\n",
              "      background-color: #E2EBFA;\n",
              "      box-shadow: 0px 1px 2px rgba(60, 64, 67, 0.3), 0px 1px 3px 1px rgba(60, 64, 67, 0.15);\n",
              "      fill: #174EA6;\n",
              "    }\n",
              "\n",
              "    .colab-df-buttons div {\n",
              "      margin-bottom: 4px;\n",
              "    }\n",
              "\n",
              "    [theme=dark] .colab-df-convert {\n",
              "      background-color: #3B4455;\n",
              "      fill: #D2E3FC;\n",
              "    }\n",
              "\n",
              "    [theme=dark] .colab-df-convert:hover {\n",
              "      background-color: #434B5C;\n",
              "      box-shadow: 0px 1px 3px 1px rgba(0, 0, 0, 0.15);\n",
              "      filter: drop-shadow(0px 1px 2px rgba(0, 0, 0, 0.3));\n",
              "      fill: #FFFFFF;\n",
              "    }\n",
              "  </style>\n",
              "\n",
              "    <script>\n",
              "      const buttonEl =\n",
              "        document.querySelector('#df-515278e7-9abb-4d61-a32f-3d6894c0c33e button.colab-df-convert');\n",
              "      buttonEl.style.display =\n",
              "        google.colab.kernel.accessAllowed ? 'block' : 'none';\n",
              "\n",
              "      async function convertToInteractive(key) {\n",
              "        const element = document.querySelector('#df-515278e7-9abb-4d61-a32f-3d6894c0c33e');\n",
              "        const dataTable =\n",
              "          await google.colab.kernel.invokeFunction('convertToInteractive',\n",
              "                                                    [key], {});\n",
              "        if (!dataTable) return;\n",
              "\n",
              "        const docLinkHtml = 'Like what you see? Visit the ' +\n",
              "          '<a target=\"_blank\" href=https://colab.research.google.com/notebooks/data_table.ipynb>data table notebook</a>'\n",
              "          + ' to learn more about interactive tables.';\n",
              "        element.innerHTML = '';\n",
              "        dataTable['output_type'] = 'display_data';\n",
              "        await google.colab.output.renderOutput(dataTable, element);\n",
              "        const docLink = document.createElement('div');\n",
              "        docLink.innerHTML = docLinkHtml;\n",
              "        element.appendChild(docLink);\n",
              "      }\n",
              "    </script>\n",
              "  </div>\n",
              "\n",
              "    </div>\n",
              "  </div>\n"
            ],
            "application/vnd.google.colaboratory.intrinsic+json": {
              "type": "dataframe",
              "repr_error": "0"
            }
          },
          "metadata": {},
          "execution_count": 15
        }
      ]
    },
    {
      "cell_type": "code",
      "source": [
        "# Set up a grid of plots\n",
        "fizsize_with_subplots = (25,20)\n",
        "fig = plt.figure(figsize=fizsize_with_subplots)\n",
        "fig_dims = (3, 2)\n",
        "\n",
        "# Plot Rooms counts\n",
        "plt.subplot2grid(fig_dims, (0, 0))\n",
        "df_house_price['Rooms'].value_counts().plot(kind='bar',\n",
        "                                         title='Rooms Counts')\n",
        "\n",
        "# Plot Type counts\n",
        "plt.subplot2grid(fig_dims, (0, 1))\n",
        "df_house_price['Type'].value_counts().plot(kind='bar',\n",
        "                                       title='Type Counts')\n",
        "\n",
        "# Plot Method counts\n",
        "plt.subplot2grid(fig_dims, (1, 0))\n",
        "df_house_price['Method'].value_counts().plot(kind='bar',\n",
        "                                    title='Method Counts')\n",
        "plt.xticks(rotation=0)\n",
        "\n",
        "# Plot Regionname counts\n",
        "plt.subplot2grid(fig_dims, (1, 1))\n",
        "df_house_price['Regionname'].value_counts().plot(kind='bar',\n",
        "                                         title='Regionname Counts')"
      ],
      "metadata": {
        "colab": {
          "base_uri": "https://localhost:8080/",
          "height": 919
        },
        "id": "9iPY2F-8bASS",
        "outputId": "5232ce78-475f-4eda-9fa2-d7dfb3659fa2"
      },
      "execution_count": 16,
      "outputs": [
        {
          "output_type": "execute_result",
          "data": {
            "text/plain": [
              "<Axes: title={'center': 'Regionname Counts'}, xlabel='Regionname'>"
            ]
          },
          "metadata": {},
          "execution_count": 16
        },
        {
          "output_type": "display_data",
          "data": {
            "text/plain": [
              "<Figure size 2500x2000 with 4 Axes>"
            ],
            "image/png": "[encoded data removed]"
          },
          "metadata": {}
        }
      ]
    },
    {
      "cell_type": "code",
      "source": [
        "# Set up a grid of plots\n",
        "fizsize_with_subplots = (20, 20)\n",
        "fig = plt.figure(figsize=fizsize_with_subplots)\n",
        "fig_dims = (3,2)\n",
        "\n",
        "\n",
        "# Plot Bedroom2 counts\n",
        "plt.subplot2grid(fig_dims, (1,0))\n",
        "df_house_price['Bedroom2'].value_counts().plot(kind='bar',\n",
        "                                         title='Bedroom2 Counts')\n",
        "\n",
        "# Plot Car counts\n",
        "plt.subplot2grid(fig_dims, (0, 1))\n",
        "df_house_price['Car'].value_counts().plot(kind='bar',title= 'car counts')\n",
        "\n",
        "plt.xticks(rotation=0)\n",
        "\n",
        "# Plot Bathroom counts\n",
        "plt.subplot2grid(fig_dims, (0, 0))\n",
        "df_house_price['Bathroom'].value_counts().plot(kind='bar',\n",
        "                                    title='Bathroom Counts')"
      ],
      "metadata": {
        "colab": {
          "base_uri": "https://localhost:8080/",
          "height": 991
        },
        "id": "B9mWdVZmbMI0",
        "outputId": "91223f8c-21ae-4e60-9bd8-c9f520dff4e0"
      },
      "execution_count": 17,
      "outputs": [
        {
          "output_type": "execute_result",
          "data": {
            "text/plain": [
              "<Axes: title={'center': 'Bathroom Counts'}, xlabel='Bathroom'>"
            ]
          },
          "metadata": {},
          "execution_count": 17
        },
        {
          "output_type": "display_data",
          "data": {
            "text/plain": [
              "<Figure size 2000x2000 with 3 Axes>"
            ],
            "image/png": "[encoded data removed]"
          },
          "metadata": {}
        }
      ]
    },
    {
      "cell_type": "markdown",
      "source": [
        "#Imputing missing values\n"
      ],
      "metadata": {
        "id": "8qZ7EbLzbT7C"
      }
    },
    {
      "cell_type": "code",
      "source": [
        "# There are mising values in Bedroom2 which is replaced by  the mode value\n",
        "df_house_price['Bedroom2'].fillna(df_house_price['Bedroom2'].mode()[0], inplace = True)\n",
        "df_house_price['Bedroom2'].value_counts()"
      ],
      "metadata": {
        "colab": {
          "base_uri": "https://localhost:8080/"
        },
        "id": "-lx35ppfbPY7",
        "outputId": "5915f9ac-4054-4469-aab3-06b29b774f1e"
      },
      "execution_count": 18,
      "outputs": [
        {
          "output_type": "execute_result",
          "data": {
            "text/plain": [
              "Bedroom2\n",
              "3.0     15857\n",
              "4.0      4766\n",
              "2.0      4696\n",
              "5.0       983\n",
              "1.0       781\n",
              "6.0       110\n",
              "7.0        19\n",
              "0.0        16\n",
              "8.0         9\n",
              "10.0        4\n",
              "9.0         3\n",
              "20.0        1\n",
              "16.0        1\n",
              "12.0        1\n",
              "Name: count, dtype: int64"
            ]
          },
          "metadata": {},
          "execution_count": 18
        }
      ]
    },
    {
      "cell_type": "code",
      "source": [
        "# There are mising values in Postcode which is replaced by  the mode value\n",
        "df_house_price['Postcode'].fillna(df_house_price['Postcode'].mode()[0], inplace = True)\n",
        "df_house_price['Postcode'].value_counts()"
      ],
      "metadata": {
        "colab": {
          "base_uri": "https://localhost:8080/"
        },
        "id": "Kzgk7JRgbYIR",
        "outputId": "5110e1b4-9c52-4de6-eb18-ed4bd5762acc"
      },
      "execution_count": 19,
      "outputs": [
        {
          "output_type": "execute_result",
          "data": {
            "text/plain": [
              "Postcode\n",
              "3073.0    728\n",
              "3046.0    545\n",
              "3020.0    544\n",
              "3165.0    493\n",
              "3121.0    489\n",
              "         ... \n",
              "3793.0      1\n",
              "3428.0      1\n",
              "3770.0      1\n",
              "3786.0      1\n",
              "3139.0      1\n",
              "Name: count, Length: 209, dtype: int64"
            ]
          },
          "metadata": {},
          "execution_count": 19
        }
      ]
    },
    {
      "cell_type": "code",
      "source": [
        "# There are mising values in Bathroom which is replaced by  the mode value\n",
        "df_house_price['Bathroom'].fillna(df_house_price['Bathroom'].mode()[0], inplace = True)\n",
        "df_house_price['Bathroom'].value_counts()"
      ],
      "metadata": {
        "colab": {
          "base_uri": "https://localhost:8080/"
        },
        "id": "qQce0831bf_Q",
        "outputId": "04fa7a6d-b735-4733-be65-d219fdf13b7c"
      },
      "execution_count": 20,
      "outputs": [
        {
          "output_type": "execute_result",
          "data": {
            "text/plain": [
              "Bathroom\n",
              "1.0    16974\n",
              "2.0     8464\n",
              "3.0     1537\n",
              "4.0      176\n",
              "5.0       46\n",
              "0.0       34\n",
              "6.0       10\n",
              "8.0        3\n",
              "7.0        2\n",
              "9.0        1\n",
              "Name: count, dtype: int64"
            ]
          },
          "metadata": {},
          "execution_count": 20
        }
      ]
    },
    {
      "cell_type": "code",
      "source": [
        "# There are mising values in Car which is replaced by  the mode value\n",
        "df_house_price['Car'].fillna(df_house_price['Car'].mode()[0], inplace = True)\n",
        "df_house_price['Car'].value_counts()"
      ],
      "metadata": {
        "colab": {
          "base_uri": "https://localhost:8080/"
        },
        "id": "hWbMl4apbhyw",
        "outputId": "91d9e86a-db98-4308-b5f3-8b25da9c1d56"
      },
      "execution_count": 21,
      "outputs": [
        {
          "output_type": "execute_result",
          "data": {
            "text/plain": [
              "Car\n",
              "2.0     16191\n",
              "1.0      7400\n",
              "0.0      1251\n",
              "3.0      1234\n",
              "4.0       907\n",
              "5.0       113\n",
              "6.0       105\n",
              "7.0        19\n",
              "8.0        18\n",
              "10.0        5\n",
              "9.0         2\n",
              "18.0        1\n",
              "11.0        1\n",
              "Name: count, dtype: int64"
            ]
          },
          "metadata": {},
          "execution_count": 21
        }
      ]
    },
    {
      "cell_type": "code",
      "source": [
        "# There are mising values in YearBuilt which is replaced by  the median value\n",
        "df_house_price['YearBuilt'].fillna(df_house_price['YearBuilt'].median(), inplace = True)\n",
        "df_house_price['YearBuilt'].describe()"
      ],
      "metadata": {
        "colab": {
          "base_uri": "https://localhost:8080/"
        },
        "id": "hC717RyGbkn4",
        "outputId": "9a4cde5f-27b0-469e-f5dc-9af662948e24"
      },
      "execution_count": 22,
      "outputs": [
        {
          "output_type": "execute_result",
          "data": {
            "text/plain": [
              "count    27247.000000\n",
              "mean      1968.496165\n",
              "std         24.539477\n",
              "min       1196.000000\n",
              "25%       1970.000000\n",
              "50%       1970.000000\n",
              "75%       1970.000000\n",
              "max       2019.000000\n",
              "Name: YearBuilt, dtype: float64"
            ]
          },
          "metadata": {},
          "execution_count": 22
        }
      ]
    },
    {
      "cell_type": "code",
      "source": [
        "# There are mising values in BuildingArea which is replaced by  the median value\n",
        "df_house_price['BuildingArea'].fillna(df_house_price['BuildingArea'].median(), inplace = True)\n",
        "df_house_price['BuildingArea'].describe()"
      ],
      "metadata": {
        "colab": {
          "base_uri": "https://localhost:8080/"
        },
        "id": "irun98QXbmuj",
        "outputId": "efa641ea-57ef-47d0-d157-8db0011026c5"
      },
      "execution_count": 23,
      "outputs": [
        {
          "output_type": "execute_result",
          "data": {
            "text/plain": [
              "count    27247.000000\n",
              "mean       142.321442\n",
              "std        281.163583\n",
              "min          0.000000\n",
              "25%        133.000000\n",
              "50%        133.000000\n",
              "75%        133.000000\n",
              "max      44515.000000\n",
              "Name: BuildingArea, dtype: float64"
            ]
          },
          "metadata": {},
          "execution_count": 23
        }
      ]
    },
    {
      "cell_type": "code",
      "source": [
        "# There are mising values in Landsize which is replaced by  the median value\n",
        "df_house_price['Landsize'].fillna(df_house_price['Landsize'].median(), inplace = True)\n",
        "df_house_price['Landsize'].describe()"
      ],
      "metadata": {
        "colab": {
          "base_uri": "https://localhost:8080/"
        },
        "id": "lBX3WaGdbqKT",
        "outputId": "330ddc9c-9a0a-4786-c735-ba865b03ec80"
      },
      "execution_count": 24,
      "outputs": [
        {
          "output_type": "execute_result",
          "data": {
            "text/plain": [
              "count     27247.000000\n",
              "mean        565.779645\n",
              "std        3052.546357\n",
              "min           0.000000\n",
              "25%         351.000000\n",
              "50%         512.000000\n",
              "75%         592.000000\n",
              "max      433014.000000\n",
              "Name: Landsize, dtype: float64"
            ]
          },
          "metadata": {},
          "execution_count": 24
        }
      ]
    },
    {
      "cell_type": "code",
      "source": [
        "# Dropping a few missing values\n",
        "df_house_price.dropna(subset=['Distance','Postcode', 'Regionname','Propertycount'], inplace=True)"
      ],
      "metadata": {
        "id": "iBjZTtBxbq2j"
      },
      "execution_count": 25,
      "outputs": []
    },
    {
      "cell_type": "code",
      "source": [
        "df_house_price.info()"
      ],
      "metadata": {
        "colab": {
          "base_uri": "https://localhost:8080/"
        },
        "id": "Cmlna0d3btbj",
        "outputId": "c604228d-846a-422f-c5f9-7844ba6ab7a8"
      },
      "execution_count": 26,
      "outputs": [
        {
          "output_type": "stream",
          "name": "stdout",
          "text": [
            "<class 'pandas.core.frame.DataFrame'>\n",
            "Index: 27244 entries, 1 to 34856\n",
            "Data columns (total 15 columns):\n",
            " #   Column         Non-Null Count  Dtype  \n",
            "---  ------         --------------  -----  \n",
            " 0   Rooms          27244 non-null  int64  \n",
            " 1   Type           27244 non-null  object \n",
            " 2   Price          27244 non-null  float64\n",
            " 3   Method         27244 non-null  object \n",
            " 4   Date           27244 non-null  object \n",
            " 5   Distance       27244 non-null  float64\n",
            " 6   Postcode       27244 non-null  float64\n",
            " 7   Bedroom2       27244 non-null  float64\n",
            " 8   Bathroom       27244 non-null  float64\n",
            " 9   Car            27244 non-null  float64\n",
            " 10  Landsize       27244 non-null  float64\n",
            " 11  BuildingArea   27244 non-null  float64\n",
            " 12  YearBuilt      27244 non-null  float64\n",
            " 13  Regionname     27244 non-null  object \n",
            " 14  Propertycount  27244 non-null  float64\n",
            "dtypes: float64(10), int64(1), object(4)\n",
            "memory usage: 3.3+ MB\n"
          ]
        }
      ]
    },
    {
      "cell_type": "markdown",
      "source": [
        "#Outlier Handling\n"
      ],
      "metadata": {
        "id": "cSX_-m8wbxf6"
      }
    },
    {
      "cell_type": "code",
      "source": [
        "df_house_price.boxplot(column='Landsize', return_type='axes')"
      ],
      "metadata": {
        "colab": {
          "base_uri": "https://localhost:8080/",
          "height": 447
        },
        "id": "7Zr_1Kqbbv3L",
        "outputId": "e221550c-2688-401b-c569-1b5d6847af0f"
      },
      "execution_count": 27,
      "outputs": [
        {
          "output_type": "execute_result",
          "data": {
            "text/plain": [
              "<Axes: >"
            ]
          },
          "metadata": {},
          "execution_count": 27
        },
        {
          "output_type": "display_data",
          "data": {
            "text/plain": [
              "<Figure size 640x480 with 1 Axes>"
            ],
            "image/png": "[encoded data removed]"
          },
          "metadata": {}
        }
      ]
    },
    {
      "cell_type": "code",
      "source": [
        "q75_landsize, q25_landsize = np.percentile(df_house_price['Landsize'], [75 ,25])\n",
        "iqr_landsize = q75_landsize - q25_landsize\n",
        "landsize_upper_limit =  q75_landsize + 1.5*iqr_landsize\n",
        "print(landsize_upper_limit)"
      ],
      "metadata": {
        "colab": {
          "base_uri": "https://localhost:8080/"
        },
        "id": "-WqmcHfeb1zk",
        "outputId": "48fdf6d1-248f-4c2b-d203-8ab2140a7768"
      },
      "execution_count": 28,
      "outputs": [
        {
          "output_type": "stream",
          "name": "stdout",
          "text": [
            "953.5\n"
          ]
        }
      ]
    },
    {
      "cell_type": "code",
      "source": [
        "df_house_price.loc[df_house_price['Landsize'] >  landsize_upper_limit] = df_house_price['Landsize'].median()\n",
        "df_house_price['Landsize'].describe()"
      ],
      "metadata": {
        "colab": {
          "base_uri": "https://localhost:8080/"
        },
        "id": "M2A7TOjDb4v7",
        "outputId": "7a2ad5fd-5d4a-4985-c13d-96a3061cee0b"
      },
      "execution_count": 29,
      "outputs": [
        {
          "output_type": "execute_result",
          "data": {
            "text/plain": [
              "count    27244.000000\n",
              "mean       460.732528\n",
              "std        208.331122\n",
              "min          0.000000\n",
              "25%        351.000000\n",
              "50%        512.000000\n",
              "75%        560.000000\n",
              "max        953.000000\n",
              "Name: Landsize, dtype: float64"
            ]
          },
          "metadata": {},
          "execution_count": 29
        }
      ]
    },
    {
      "cell_type": "code",
      "source": [
        "df_house_price.boxplot(column='Bedroom2', return_type='axes')"
      ],
      "metadata": {
        "colab": {
          "base_uri": "https://localhost:8080/",
          "height": 447
        },
        "id": "4AKR6gmab7hr",
        "outputId": "58588f95-4988-48d3-f5ca-73d7a7d38a5f"
      },
      "execution_count": 30,
      "outputs": [
        {
          "output_type": "execute_result",
          "data": {
            "text/plain": [
              "<Axes: >"
            ]
          },
          "metadata": {},
          "execution_count": 30
        },
        {
          "output_type": "display_data",
          "data": {
            "text/plain": [
              "<Figure size 640x480 with 1 Axes>"
            ],
            "image/png": "[encoded data removed]"
          },
          "metadata": {}
        }
      ]
    },
    {
      "cell_type": "code",
      "source": [
        "# Bedroom2_upper_limit = 10\n",
        "df_house_price.loc[df_house_price['Bedroom2'] >  10] = df_house_price['Bathroom'].mode()[0]\n",
        "df_house_price['Bedroom2'].value_counts()"
      ],
      "metadata": {
        "colab": {
          "base_uri": "https://localhost:8080/"
        },
        "id": "tE6gOU1eb9qb",
        "outputId": "822b4964-112e-473e-b10a-b09418da1783"
      },
      "execution_count": 31,
      "outputs": [
        {
          "output_type": "execute_result",
          "data": {
            "text/plain": [
              "Bedroom2\n",
              "3.0     15586\n",
              "4.0      4547\n",
              "2.0      4399\n",
              "1.0      1693\n",
              "5.0       890\n",
              "6.0        85\n",
              "7.0        17\n",
              "0.0        15\n",
              "8.0         7\n",
              "10.0        4\n",
              "9.0         1\n",
              "Name: count, dtype: int64"
            ]
          },
          "metadata": {},
          "execution_count": 31
        }
      ]
    },
    {
      "cell_type": "code",
      "source": [
        "df_house_price.boxplot(column=['Bathroom'], return_type='axes')"
      ],
      "metadata": {
        "colab": {
          "base_uri": "https://localhost:8080/",
          "height": 447
        },
        "id": "YKUjqz8acAQb",
        "outputId": "64e0368a-8674-4349-8b5b-086a557961f7"
      },
      "execution_count": 32,
      "outputs": [
        {
          "output_type": "execute_result",
          "data": {
            "text/plain": [
              "<Axes: >"
            ]
          },
          "metadata": {},
          "execution_count": 32
        },
        {
          "output_type": "display_data",
          "data": {
            "text/plain": [
              "<Figure size 640x480 with 1 Axes>"
            ],
            "image/png": "[encoded data removed]"
          },
          "metadata": {}
        }
      ]
    },
    {
      "cell_type": "code",
      "source": [
        "df_house_price.loc[df_house_price['Bathroom'] >  6] = df_house_price['Bathroom'].mode()[0]\n",
        "df_house_price['Bathroom'].value_counts()"
      ],
      "metadata": {
        "colab": {
          "base_uri": "https://localhost:8080/"
        },
        "id": "_U-7_ULJcCmG",
        "outputId": "d09ba9d4-059b-4f36-8ed8-7bde28462097"
      },
      "execution_count": 33,
      "outputs": [
        {
          "output_type": "execute_result",
          "data": {
            "text/plain": [
              "Bathroom\n",
              "1.0    17526\n",
              "2.0     8064\n",
              "3.0     1423\n",
              "4.0      152\n",
              "5.0       38\n",
              "0.0       33\n",
              "6.0        8\n",
              "Name: count, dtype: int64"
            ]
          },
          "metadata": {},
          "execution_count": 33
        }
      ]
    },
    {
      "cell_type": "code",
      "source": [
        "df_house_price.boxplot(column='Car', return_type='axes')"
      ],
      "metadata": {
        "colab": {
          "base_uri": "https://localhost:8080/",
          "height": 447
        },
        "id": "IQ-AoV7PcFz2",
        "outputId": "54f8b518-421e-4d57-cb46-9c55e2f0a883"
      },
      "execution_count": 34,
      "outputs": [
        {
          "output_type": "execute_result",
          "data": {
            "text/plain": [
              "<Axes: >"
            ]
          },
          "metadata": {},
          "execution_count": 34
        },
        {
          "output_type": "display_data",
          "data": {
            "text/plain": [
              "<Figure size 640x480 with 1 Axes>"
            ],
            "image/png": "[encoded data removed]"
          },
          "metadata": {}
        }
      ]
    },
    {
      "cell_type": "code",
      "source": [
        "df_house_price.loc[df_house_price['Car'] >  6] = df_house_price['Car'].mode()[0]\n",
        "df_house_price['Car'].value_counts()"
      ],
      "metadata": {
        "colab": {
          "base_uri": "https://localhost:8080/"
        },
        "id": "XuzioMf1cHzG",
        "outputId": "41fb2159-09f2-44be-804b-5b9c8d9c4b78"
      },
      "execution_count": 35,
      "outputs": [
        {
          "output_type": "execute_result",
          "data": {
            "text/plain": [
              "Car\n",
              "2.0    15823\n",
              "1.0     8021\n",
              "0.0     1209\n",
              "3.0     1169\n",
              "4.0      832\n",
              "5.0      101\n",
              "6.0       89\n",
              "Name: count, dtype: int64"
            ]
          },
          "metadata": {},
          "execution_count": 35
        }
      ]
    },
    {
      "cell_type": "code",
      "source": [
        "df_house_price.boxplot(column='BuildingArea', return_type='axes')"
      ],
      "metadata": {
        "colab": {
          "base_uri": "https://localhost:8080/",
          "height": 447
        },
        "id": "L0cKnLKlcKUn",
        "outputId": "99bd5c7a-a080-473e-f422-ac7c6d34fb38"
      },
      "execution_count": 36,
      "outputs": [
        {
          "output_type": "execute_result",
          "data": {
            "text/plain": [
              "<Axes: >"
            ]
          },
          "metadata": {},
          "execution_count": 36
        },
        {
          "output_type": "display_data",
          "data": {
            "text/plain": [
              "<Figure size 640x480 with 1 Axes>"
            ],
            "image/png": "[encoded data removed]"
          },
          "metadata": {}
        }
      ]
    },
    {
      "cell_type": "code",
      "source": [
        "q75_BuildingArea, q25_BuildingArea = np.percentile(df_house_price['BuildingArea'], [75 ,25])\n",
        "iqr_BuildingArea = q75_BuildingArea - q25_BuildingArea\n",
        "BuildingArea_upper_limit =  q75_BuildingArea + 1.5*iqr_BuildingArea\n",
        "print(BuildingArea_upper_limit)"
      ],
      "metadata": {
        "colab": {
          "base_uri": "https://localhost:8080/"
        },
        "id": "ayJkRXDEcMJ3",
        "outputId": "ef01bbef-8e08-41e4-bb77-9cbb72c379b2"
      },
      "execution_count": 37,
      "outputs": [
        {
          "output_type": "stream",
          "name": "stdout",
          "text": [
            "133.0\n"
          ]
        }
      ]
    },
    {
      "cell_type": "code",
      "source": [
        "df_house_price.loc[df_house_price['BuildingArea'] >  landsize_upper_limit] = df_house_price['BuildingArea'].median()\n",
        "df_house_price['BuildingArea'].describe()"
      ],
      "metadata": {
        "colab": {
          "base_uri": "https://localhost:8080/"
        },
        "id": "Kn-I0yoYcP4P",
        "outputId": "98c7176f-08af-4484-8880-c79096484cc2"
      },
      "execution_count": 38,
      "outputs": [
        {
          "output_type": "execute_result",
          "data": {
            "text/plain": [
              "count    27244.000000\n",
              "mean       134.131969\n",
              "std         57.583558\n",
              "min          0.000000\n",
              "25%        133.000000\n",
              "50%        133.000000\n",
              "75%        133.000000\n",
              "max        934.000000\n",
              "Name: BuildingArea, dtype: float64"
            ]
          },
          "metadata": {},
          "execution_count": 38
        }
      ]
    },
    {
      "cell_type": "markdown",
      "source": [
        "#Feature Engineering\n"
      ],
      "metadata": {
        "id": "cFmuJAeUcT7q"
      }
    },
    {
      "cell_type": "code",
      "source": [
        "import datetime"
      ],
      "metadata": {
        "id": "vwZjT2xQjT7x"
      },
      "execution_count": 39,
      "outputs": []
    },
    {
      "cell_type": "code",
      "source": [
        "import pandas as pd\n",
        "\n",
        "# Load the dataset\n",
        "file_path = '/content/drive/MyDrive/Melbourne_housing_FULL.csv'\n",
        "df_house_price = pd.read_csv(file_path)\n",
        "\n",
        "# Convert 'Date' column to datetime with dayfirst=True\n",
        "df_house_price['Date'] = pd.to_datetime(df_house_price['Date'], dayfirst=True, errors='coerce')\n",
        "\n",
        "# Convert 'YearBuilt' column to datetime using the correct format, handle missing values\n",
        "df_house_price['YearBuilt'] = pd.to_datetime(df_house_price['YearBuilt'].dropna().astype(int), format='%Y', errors='coerce')\n",
        "\n",
        "# Calculate the age of the house, handling missing values\n",
        "df_house_price['age_house'] = df_house_price['Date'].dt.year - df_house_price['YearBuilt'].dt.year\n",
        "\n",
        "# Display the first few rows of the resulting DataFrame\n",
        "print(df_house_price[['Date', 'YearBuilt', 'age_house']].head())\n"
      ],
      "metadata": {
        "colab": {
          "base_uri": "https://localhost:8080/"
        },
        "id": "_wPUXgUpcQvO",
        "outputId": "d9f3a459-13b5-401c-e18d-610ea68c7b5d"
      },
      "execution_count": 40,
      "outputs": [
        {
          "output_type": "stream",
          "name": "stdout",
          "text": [
            "        Date  YearBuilt  age_house\n",
            "0 2016-09-03        NaT        NaN\n",
            "1 2016-12-03        NaT        NaN\n",
            "2 2016-02-04 1900-01-01      116.0\n",
            "3 2016-02-04        NaT        NaN\n",
            "4 2017-03-04 1900-01-01      117.0\n"
          ]
        }
      ]
    },
    {
      "cell_type": "code",
      "source": [
        "df_house_price['age_house'].describe()"
      ],
      "metadata": {
        "colab": {
          "base_uri": "https://localhost:8080/"
        },
        "id": "1f1h4Z66l-wT",
        "outputId": "3900d86b-b900-4eed-e840-c82acb1e4b98"
      },
      "execution_count": 41,
      "outputs": [
        {
          "output_type": "execute_result",
          "data": {
            "text/plain": [
              "count    15550.000000\n",
              "mean        51.426945\n",
              "std         36.759921\n",
              "min        -90.000000\n",
              "25%         17.000000\n",
              "50%         47.000000\n",
              "75%         76.000000\n",
              "max        217.000000\n",
              "Name: age_house, dtype: float64"
            ]
          },
          "metadata": {},
          "execution_count": 41
        }
      ]
    },
    {
      "cell_type": "code",
      "source": [
        "# Droping 'yearbuilt' and 'date'\n",
        "df_house_price = df_house_price.drop(['YearBuilt','Date'], axis=1)"
      ],
      "metadata": {
        "id": "tL4mQjW7mFQb"
      },
      "execution_count": 42,
      "outputs": []
    },
    {
      "cell_type": "markdown",
      "source": [
        "\n",
        "#One hot encoding\n"
      ],
      "metadata": {
        "id": "vGHZPaoynBqp"
      }
    },
    {
      "cell_type": "code",
      "source": [
        "# Replacing Type with a one-hot vector of length 6\n",
        "cols = pd.get_dummies(df_house_price['Type'], prefix= 'Type')\n",
        "df_house_price[cols.columns] = cols\n",
        "df_house_price.drop('Type', axis = 1, inplace = True)\n",
        "df_house_price.info()"
      ],
      "metadata": {
        "colab": {
          "base_uri": "https://localhost:8080/"
        },
        "id": "pUuaZO49mIDK",
        "outputId": "9895d0f7-20db-4506-c7d2-ca03af3b7dce"
      },
      "execution_count": 43,
      "outputs": [
        {
          "output_type": "stream",
          "name": "stdout",
          "text": [
            "<class 'pandas.core.frame.DataFrame'>\n",
            "RangeIndex: 34857 entries, 0 to 34856\n",
            "Data columns (total 22 columns):\n",
            " #   Column         Non-Null Count  Dtype  \n",
            "---  ------         --------------  -----  \n",
            " 0   Suburb         34857 non-null  object \n",
            " 1   Address        34857 non-null  object \n",
            " 2   Rooms          34857 non-null  int64  \n",
            " 3   Price          27247 non-null  float64\n",
            " 4   Method         34857 non-null  object \n",
            " 5   SellerG        34857 non-null  object \n",
            " 6   Distance       34856 non-null  float64\n",
            " 7   Postcode       34856 non-null  float64\n",
            " 8   Bedroom2       26640 non-null  float64\n",
            " 9   Bathroom       26631 non-null  float64\n",
            " 10  Car            26129 non-null  float64\n",
            " 11  Landsize       23047 non-null  float64\n",
            " 12  BuildingArea   13742 non-null  float64\n",
            " 13  CouncilArea    34854 non-null  object \n",
            " 14  Lattitude      26881 non-null  float64\n",
            " 15  Longtitude     26881 non-null  float64\n",
            " 16  Regionname     34854 non-null  object \n",
            " 17  Propertycount  34854 non-null  float64\n",
            " 18  age_house      15550 non-null  float64\n",
            " 19  Type_h         34857 non-null  bool   \n",
            " 20  Type_t         34857 non-null  bool   \n",
            " 21  Type_u         34857 non-null  bool   \n",
            "dtypes: bool(3), float64(12), int64(1), object(6)\n",
            "memory usage: 5.2+ MB\n"
          ]
        }
      ]
    },
    {
      "cell_type": "code",
      "source": [
        "# Replacing Method with a one-hot vector of length 8\n",
        "cols = pd.get_dummies(df_house_price['Method'], prefix= 'Method')\n",
        "df_house_price[cols.columns] = cols\n",
        "df_house_price.drop('Method', axis = 1, inplace = True)\n",
        "df_house_price.info()"
      ],
      "metadata": {
        "id": "6AKAch3wnHyT",
        "outputId": "a3d1f870-13d6-40bc-c54b-3d1418af1ef6",
        "colab": {
          "base_uri": "https://localhost:8080/"
        }
      },
      "execution_count": 44,
      "outputs": [
        {
          "output_type": "stream",
          "name": "stdout",
          "text": [
            "<class 'pandas.core.frame.DataFrame'>\n",
            "RangeIndex: 34857 entries, 0 to 34856\n",
            "Data columns (total 30 columns):\n",
            " #   Column         Non-Null Count  Dtype  \n",
            "---  ------         --------------  -----  \n",
            " 0   Suburb         34857 non-null  object \n",
            " 1   Address        34857 non-null  object \n",
            " 2   Rooms          34857 non-null  int64  \n",
            " 3   Price          27247 non-null  float64\n",
            " 4   SellerG        34857 non-null  object \n",
            " 5   Distance       34856 non-null  float64\n",
            " 6   Postcode       34856 non-null  float64\n",
            " 7   Bedroom2       26640 non-null  float64\n",
            " 8   Bathroom       26631 non-null  float64\n",
            " 9   Car            26129 non-null  float64\n",
            " 10  Landsize       23047 non-null  float64\n",
            " 11  BuildingArea   13742 non-null  float64\n",
            " 12  CouncilArea    34854 non-null  object \n",
            " 13  Lattitude      26881 non-null  float64\n",
            " 14  Longtitude     26881 non-null  float64\n",
            " 15  Regionname     34854 non-null  object \n",
            " 16  Propertycount  34854 non-null  float64\n",
            " 17  age_house      15550 non-null  float64\n",
            " 18  Type_h         34857 non-null  bool   \n",
            " 19  Type_t         34857 non-null  bool   \n",
            " 20  Type_u         34857 non-null  bool   \n",
            " 21  Method_PI      34857 non-null  bool   \n",
            " 22  Method_PN      34857 non-null  bool   \n",
            " 23  Method_S       34857 non-null  bool   \n",
            " 24  Method_SA      34857 non-null  bool   \n",
            " 25  Method_SN      34857 non-null  bool   \n",
            " 26  Method_SP      34857 non-null  bool   \n",
            " 27  Method_SS      34857 non-null  bool   \n",
            " 28  Method_VB      34857 non-null  bool   \n",
            " 29  Method_W       34857 non-null  bool   \n",
            "dtypes: bool(12), float64(12), int64(1), object(5)\n",
            "memory usage: 5.2+ MB\n"
          ]
        }
      ]
    },
    {
      "cell_type": "code",
      "source": [
        "# Replacing Regionname with a one-hot vector of length 11\n",
        "cols = pd.get_dummies(df_house_price['Regionname'], prefix= 'Regionname')\n",
        "df_house_price[cols.columns] = cols\n",
        "df_house_price.drop('Regionname', axis = 1, inplace = True)\n",
        "df_house_price.info()"
      ],
      "metadata": {
        "id": "dyp_2VFsnKQT",
        "outputId": "4088840c-32a2-4fcc-f779-ddc99254b9a9",
        "colab": {
          "base_uri": "https://localhost:8080/"
        }
      },
      "execution_count": 45,
      "outputs": [
        {
          "output_type": "stream",
          "name": "stdout",
          "text": [
            "<class 'pandas.core.frame.DataFrame'>\n",
            "RangeIndex: 34857 entries, 0 to 34856\n",
            "Data columns (total 37 columns):\n",
            " #   Column                                 Non-Null Count  Dtype  \n",
            "---  ------                                 --------------  -----  \n",
            " 0   Suburb                                 34857 non-null  object \n",
            " 1   Address                                34857 non-null  object \n",
            " 2   Rooms                                  34857 non-null  int64  \n",
            " 3   Price                                  27247 non-null  float64\n",
            " 4   SellerG                                34857 non-null  object \n",
            " 5   Distance                               34856 non-null  float64\n",
            " 6   Postcode                               34856 non-null  float64\n",
            " 7   Bedroom2                               26640 non-null  float64\n",
            " 8   Bathroom                               26631 non-null  float64\n",
            " 9   Car                                    26129 non-null  float64\n",
            " 10  Landsize                               23047 non-null  float64\n",
            " 11  BuildingArea                           13742 non-null  float64\n",
            " 12  CouncilArea                            34854 non-null  object \n",
            " 13  Lattitude                              26881 non-null  float64\n",
            " 14  Longtitude                             26881 non-null  float64\n",
            " 15  Propertycount                          34854 non-null  float64\n",
            " 16  age_house                              15550 non-null  float64\n",
            " 17  Type_h                                 34857 non-null  bool   \n",
            " 18  Type_t                                 34857 non-null  bool   \n",
            " 19  Type_u                                 34857 non-null  bool   \n",
            " 20  Method_PI                              34857 non-null  bool   \n",
            " 21  Method_PN                              34857 non-null  bool   \n",
            " 22  Method_S                               34857 non-null  bool   \n",
            " 23  Method_SA                              34857 non-null  bool   \n",
            " 24  Method_SN                              34857 non-null  bool   \n",
            " 25  Method_SP                              34857 non-null  bool   \n",
            " 26  Method_SS                              34857 non-null  bool   \n",
            " 27  Method_VB                              34857 non-null  bool   \n",
            " 28  Method_W                               34857 non-null  bool   \n",
            " 29  Regionname_Eastern Metropolitan        34857 non-null  bool   \n",
            " 30  Regionname_Eastern Victoria            34857 non-null  bool   \n",
            " 31  Regionname_Northern Metropolitan       34857 non-null  bool   \n",
            " 32  Regionname_Northern Victoria           34857 non-null  bool   \n",
            " 33  Regionname_South-Eastern Metropolitan  34857 non-null  bool   \n",
            " 34  Regionname_Southern Metropolitan       34857 non-null  bool   \n",
            " 35  Regionname_Western Metropolitan        34857 non-null  bool   \n",
            " 36  Regionname_Western Victoria            34857 non-null  bool   \n",
            "dtypes: bool(20), float64(12), int64(1), object(4)\n",
            "memory usage: 5.2+ MB\n"
          ]
        }
      ]
    },
    {
      "cell_type": "code",
      "source": [
        "# from sklearn.model_selection import train_test_split\n",
        "# from sklearn.preprocessing import StandardScaler\n",
        "# y = df_house_price[\"Price\"]\n",
        "# X = df_house_price.drop('Price', axis = 1)\n",
        "\n",
        "# X_train_orig, X_test_orig, y_train, y_test = train_test_split(X, y, random_state = 24)\n",
        "\n",
        "# scaler = StandardScaler()\n",
        "# X_train = scaler.fit_transform(X_train_orig)\n",
        "# X_test = scaler.transform(X_test_orig)\n",
        "import pandas as pd\n",
        "from sklearn.preprocessing import StandardScaler, OneHotEncoder\n",
        "from sklearn.compose import ColumnTransformer\n",
        "from sklearn.model_selection import train_test_split\n",
        "from sklearn.pipeline import Pipeline\n",
        "\n",
        "# Load the dataset\n",
        "file_path = '/content/drive/MyDrive/Melbourne_housing_FULL.csv'\n",
        "df_house_price = pd.read_csv(file_path)\n",
        "\n",
        "# Drop rows with missing target values\n",
        "df_house_price = df_house_price.dropna(subset=['Price'])\n",
        "\n",
        "# Separate features and target variable\n",
        "X = df_house_price.drop(columns=['Price'])\n",
        "y = df_house_price['Price']\n",
        "\n",
        "# Identify numeric and categorical columns\n",
        "numeric_features = X.select_dtypes(include=['int64', 'float64']).columns\n",
        "categorical_features = X.select_dtypes(include=['object']).columns\n",
        "\n",
        "# Create preprocessing pipeline for numeric and categorical data\n",
        "numeric_transformer = StandardScaler()\n",
        "categorical_transformer = OneHotEncoder(handle_unknown='ignore')\n",
        "\n",
        "preprocessor = ColumnTransformer(\n",
        "    transformers=[\n",
        "        ('num', numeric_transformer, numeric_features),\n",
        "        ('cat', categorical_transformer, categorical_features)\n",
        "    ])\n",
        "\n",
        "# Split data into training and test sets\n",
        "X_train_orig, X_test_orig, y_train, y_test = train_test_split(X, y, test_size=0.2, random_state=42)\n",
        "\n",
        "# Apply preprocessing\n",
        "X_train = preprocessor.fit_transform(X_train_orig)\n",
        "X_test = preprocessor.transform(X_test_orig)\n",
        "\n",
        "# Display the transformed data\n",
        "print(\"Transformed X_train shape:\", X_train.shape)\n",
        "print(\"Transformed X_test shape:\", X_test.shape)\n"
      ],
      "metadata": {
        "id": "L_7hmb_OnMuD",
        "outputId": "6371e899-445e-4884-d6be-875968157aff",
        "colab": {
          "base_uri": "https://localhost:8080/"
        }
      },
      "execution_count": 46,
      "outputs": [
        {
          "output_type": "stream",
          "name": "stdout",
          "text": [
            "Transformed X_train shape: (21797, 22285)\n",
            "Transformed X_test shape: (5450, 22285)\n"
          ]
        }
      ]
    },
    {
      "cell_type": "code",
      "source": [
        "import pandas as pd\n",
        "from sklearn.preprocessing import StandardScaler, OneHotEncoder\n",
        "from sklearn.compose import ColumnTransformer\n",
        "from sklearn.impute import SimpleImputer\n",
        "from sklearn.model_selection import train_test_split\n",
        "from sklearn.pipeline import Pipeline\n",
        "from sklearn.linear_model import LinearRegression\n",
        "\n",
        "# Load the dataset\n",
        "file_path = '/content/drive/MyDrive/Melbourne_housing_FULL.csv'\n",
        "df_house_price = pd.read_csv(file_path)\n",
        "\n",
        "# Drop rows with missing target values\n",
        "df_house_price = df_house_price.dropna(subset=['Price'])\n",
        "\n",
        "# Separate features and target variable\n",
        "X = df_house_price.drop(columns=['Price'])\n",
        "y = df_house_price['Price']\n",
        "\n",
        "# Identify numeric and categorical columns\n",
        "numeric_features = X.select_dtypes(include=['int64', 'float64']).columns\n",
        "categorical_features = X.select_dtypes(include=['object']).columns\n",
        "\n",
        "# Create preprocessing pipeline for numeric and categorical data\n",
        "numeric_transformer = Pipeline(steps=[\n",
        "    ('imputer', SimpleImputer(strategy='mean')),\n",
        "    ('scaler', StandardScaler())\n",
        "])\n",
        "\n",
        "categorical_transformer = Pipeline(steps=[\n",
        "    ('imputer', SimpleImputer(strategy='most_frequent')),\n",
        "    ('onehot', OneHotEncoder(handle_unknown='ignore'))\n",
        "])\n",
        "\n",
        "preprocessor = ColumnTransformer(\n",
        "    transformers=[\n",
        "        ('num', numeric_transformer, numeric_features),\n",
        "        ('cat', categorical_transformer, categorical_features)\n",
        "    ])\n",
        "\n",
        "# Split data into training and test sets\n",
        "X_train_orig, X_test_orig, y_train, y_test = train_test_split(X, y, test_size=0.2, random_state=42)\n",
        "\n",
        "# Apply preprocessing\n",
        "X_train = preprocessor.fit_transform(X_train_orig)\n",
        "X_test = preprocessor.transform(X_test_orig)\n",
        "\n",
        "# Fit the Linear Regression model\n",
        "lreg = LinearRegression()\n",
        "lreg.fit(X_train, y_train)\n",
        "\n",
        "# Print the train and test scores\n",
        "print('Train Score for Linear Regression:', lreg.score(X_train, y_train))\n",
        "print('Test Score for Linear Regression:', lreg.score(X_test, y_test))\n"
      ],
      "metadata": {
        "id": "62RKzM9Hpydi",
        "outputId": "0f1c00f5-ed3a-4d82-9e7f-9d1d1d3136cf",
        "colab": {
          "base_uri": "https://localhost:8080/"
        }
      },
      "execution_count": 47,
      "outputs": [
        {
          "output_type": "stream",
          "name": "stdout",
          "text": [
            "Train Score for Linear Regression: 0.9998606418944157\n",
            "Test Score for Linear Regression: -0.4043913800558887\n"
          ]
        }
      ]
    },
    {
      "cell_type": "code",
      "source": [
        "#Ridge(random_state = 0)\n",
        "from sklearn.linear_model import Ridge\n",
        "\n",
        "ridge = Ridge(random_state= 0)\n",
        "ridge.fit(X_train, y_train)\n",
        "\n",
        "print('Train Score for Ridge Regression:', ridge.score(X_train, y_train))\n",
        "print('Test Score for Ridge Regression:', ridge.score(X_test, y_test))"
      ],
      "metadata": {
        "id": "6cjFscsDqlgD",
        "outputId": "55bec8bc-b48f-4bef-f4e9-575f96d78393",
        "colab": {
          "base_uri": "https://localhost:8080/"
        }
      },
      "execution_count": 48,
      "outputs": [
        {
          "output_type": "stream",
          "name": "stdout",
          "text": [
            "Train Score for Ridge Regression: 0.9220771834795446\n",
            "Test Score for Ridge Regression: 0.6633667180836051\n"
          ]
        }
      ]
    },
    {
      "cell_type": "code",
      "source": [
        "#Lasso(random_state = 0)\n",
        "from sklearn.linear_model import Lasso\n",
        "\n",
        "lasso = Lasso(random_state= 0)\n",
        "lasso.fit(X_train, y_train)\n",
        "\n",
        "print('Train Score for Lasso Regression:', lasso.score(X_train, y_train))\n",
        "print('Test Score for Lasso Regression:', lasso.score(X_test, y_test))"
      ],
      "metadata": {
        "id": "rKM2i55fqvrz",
        "outputId": "7cd505d2-1cbc-4bda-ddfb-475f846a89f3",
        "colab": {
          "base_uri": "https://localhost:8080/"
        }
      },
      "execution_count": 49,
      "outputs": [
        {
          "output_type": "stream",
          "name": "stdout",
          "text": [
            "Train Score for Lasso Regression: 0.9967788697209349\n",
            "Test Score for Lasso Regression: 0.6234347342307434\n"
          ]
        },
        {
          "output_type": "stream",
          "name": "stderr",
          "text": [
            "/usr/local/lib/python3.10/dist-packages/sklearn/linear_model/_coordinate_descent.py:592: ConvergenceWarning: Objective did not converge. You might want to increase the number of iterations. Duality gap: 102965486933891.72, tolerance: 888233159035.6412\n",
            "  model = cd_fast.sparse_enet_coordinate_descent(\n"
          ]
        }
      ]
    },
    {
      "cell_type": "markdown",
      "source": [
        "\n",
        "#Polynomial Regression\n"
      ],
      "metadata": {
        "id": "QYPMWgTmxbvo"
      }
    },
    {
      "cell_type": "code",
      "source": [
        "import pandas as pd\n",
        "from sklearn.model_selection import train_test_split\n",
        "from sklearn.linear_model import LinearRegression\n",
        "from sklearn.preprocessing import PolynomialFeatures\n",
        "\n",
        "# Load the dataset\n",
        "file_path = '/content/drive/MyDrive/Melbourne_housing_FULL.csv'\n",
        "data = pd.read_csv(file_path)\n",
        "\n",
        "# Select features and target variable\n",
        "features = ['Rooms', 'Distance', 'Landsize', 'BuildingArea', 'YearBuilt', 'Lattitude', 'Longtitude']\n",
        "X = data[features]\n",
        "y = data['Price']\n",
        "\n",
        "# Handle missing values by dropping rows with NaN values\n",
        "data_clean = data.dropna(subset=['Price'])\n",
        "X = data_clean[features].dropna()\n",
        "y = data_clean['Price'].loc[X.index]\n",
        "\n",
        "# Split the data into training and testing sets\n",
        "X_train, X_test, y_train, y_test = train_test_split(X, y, test_size=0.2, random_state=42)\n",
        "\n",
        "# Apply polynomial regression\n",
        "poly = PolynomialFeatures(degree=2)\n",
        "X_train_poly = poly.fit_transform(X_train)\n",
        "X_test_poly = poly.transform(X_test)\n",
        "\n",
        "polreg = LinearRegression()\n",
        "polreg.fit(X_train_poly, y_train)\n",
        "\n",
        "train_score = polreg.score(X_train_poly, y_train)\n",
        "test_score = polreg.score(X_test_poly, y_test)\n",
        "\n",
        "print('Train Score for Polynomial Regression:', train_score)\n",
        "print('Test Score for Polynomial Regression:', test_score)\n"
      ],
      "metadata": {
        "id": "g24FnY0Dqy-w",
        "colab": {
          "base_uri": "https://localhost:8080/"
        },
        "outputId": "df0d252e-e03d-4e78-ca95-3f211241a3e2"
      },
      "execution_count": 3,
      "outputs": [
        {
          "output_type": "stream",
          "name": "stdout",
          "text": [
            "Train Score for Polynomial Regression: 0.7049457019341998\n",
            "Test Score for Polynomial Regression: 0.6489742144354267\n"
          ]
        }
      ]
    },
    {
      "cell_type": "code",
      "source": [
        "#DecisionTreeRegressor(max_depth = 2, random_state= 0)\n",
        "from sklearn.tree import DecisionTreeRegressor\n",
        "dr = DecisionTreeRegressor(max_depth = 2, random_state= 0)\n",
        "dr.fit(X_train, y_train)\n",
        "\n",
        "print('Train Score for Decision Tree Regression:', dr.score(X_train, y_train))\n",
        "print('Test Score for Decision Tree Regression:', dr.score(X_test, y_test))"
      ],
      "metadata": {
        "colab": {
          "base_uri": "https://localhost:8080/"
        },
        "id": "SYE3yjH8-_uJ",
        "outputId": "a4578708-e7c7-4466-9e36-0fa23510078a"
      },
      "execution_count": 4,
      "outputs": [
        {
          "output_type": "stream",
          "name": "stdout",
          "text": [
            "Train Score for Decision Tree Regression: 0.4112609696672661\n",
            "Test Score for Decision Tree Regression: 0.36670905431500456\n"
          ]
        }
      ]
    },
    {
      "cell_type": "code",
      "source": [
        "from sklearn.neighbors import KNeighborsRegressor\n",
        "knn = KNeighborsRegressor()\n",
        "knn.fit(X_train, y_train)\n",
        "\n",
        "print('Train Score for KNN Regression:', knn.score(X_train, y_train))\n",
        "print('Test Score for KNN Regression:', knn.score(X_test, y_test))"
      ],
      "metadata": {
        "colab": {
          "base_uri": "https://localhost:8080/"
        },
        "id": "UnVDChks_DsB",
        "outputId": "e9ba9ac0-ee86-4066-bce4-5c1d8afcd07b"
      },
      "execution_count": 5,
      "outputs": [
        {
          "output_type": "stream",
          "name": "stdout",
          "text": [
            "Train Score for KNN Regression: 0.7017025911039803\n",
            "Test Score for KNN Regression: 0.4788903855065443\n"
          ]
        }
      ]
    },
    {
      "cell_type": "code",
      "source": [
        "#SVR()\n",
        "from sklearn.svm import SVR\n",
        "\n",
        "svr = SVR()\n",
        "svr.fit(X_train, y_train)\n",
        "\n",
        "print('Train Score for SVM Regression:', svr.score(X_train, y_train))\n",
        "print('Test Score for SVM Regression:', svr.score(X_test, y_test))"
      ],
      "metadata": {
        "colab": {
          "base_uri": "https://localhost:8080/"
        },
        "id": "Rx6yEriw_GCi",
        "outputId": "94f23d2e-7b03-44f1-d53a-0cc946435679"
      },
      "execution_count": 6,
      "outputs": [
        {
          "output_type": "stream",
          "name": "stdout",
          "text": [
            "Train Score for SVM Regression: -0.08225224876824844\n",
            "Test Score for SVM Regression: -0.08005869806176702\n"
          ]
        }
      ]
    },
    {
      "cell_type": "code",
      "source": [
        "svr_rbf = SVR(kernel = 'rbf')\n",
        "svr_rbf.fit(X_train, y_train)\n",
        "\n",
        "print('Train Score for SVM rbf Regression:', svr_rbf.score(X_train, y_train))\n",
        "print('Test Score for SVM rbf Regression:', svr_rbf.score(X_test, y_test))"
      ],
      "metadata": {
        "colab": {
          "base_uri": "https://localhost:8080/"
        },
        "id": "samAuxmC_I5B",
        "outputId": "1645051f-b4dd-46e9-f281-bdc16569eb5e"
      },
      "execution_count": 7,
      "outputs": [
        {
          "output_type": "stream",
          "name": "stdout",
          "text": [
            "Train Score for SVM rbf Regression: -0.08225224876824844\n",
            "Test Score for SVM rbf Regression: -0.08005869806176702\n"
          ]
        }
      ]
    },
    {
      "cell_type": "code",
      "source": [
        "svr_poly = SVR(kernel = 'poly')\n",
        "svr_poly.fit(X_train, y_train)\n",
        "\n",
        "print('Train Score for SVM poly Regression:', svr_poly.score(X_train, y_train))\n",
        "print('Test Score for SVM poly Regression:', svr_poly.score(X_test, y_test))"
      ],
      "metadata": {
        "colab": {
          "base_uri": "https://localhost:8080/"
        },
        "id": "-OhBquHi_O7y",
        "outputId": "198d5463-f17e-4141-e908-5eaa0d6a4469"
      },
      "execution_count": 8,
      "outputs": [
        {
          "output_type": "stream",
          "name": "stdout",
          "text": [
            "Train Score for SVM poly Regression: -0.082011448736099\n",
            "Test Score for SVM poly Regression: -0.07983036547465883\n"
          ]
        }
      ]
    },
    {
      "cell_type": "code",
      "source": [
        "svr_linear = SVR(kernel = 'linear')\n",
        "svr_linear.fit(X_train, y_train)\n",
        "\n",
        "print('Train Score for SVM linear Regression:', svr_linear.score(X_train, y_train))\n",
        "print('Test Score for SVM linear Regression:', svr_linear.score(X_test, y_test))"
      ],
      "metadata": {
        "colab": {
          "base_uri": "https://localhost:8080/"
        },
        "id": "xBxZeTfw_UzT",
        "outputId": "3cbf1f17-ba92-4379-898e-006113a5fae2"
      },
      "execution_count": 9,
      "outputs": [
        {
          "output_type": "stream",
          "name": "stdout",
          "text": [
            "Train Score for SVM linear Regression: 0.3706079698230069\n",
            "Test Score for SVM linear Regression: 0.402298777402864\n"
          ]
        }
      ]
    },
    {
      "cell_type": "markdown",
      "source": [
        "\n",
        "#Grid Search with Cross-Validation\n"
      ],
      "metadata": {
        "id": "ocrGcSN-_eMH"
      }
    },
    {
      "cell_type": "code",
      "source": [
        "import pandas as pd\n",
        "from sklearn.model_selection import train_test_split, GridSearchCV\n",
        "from sklearn.linear_model import LinearRegression, Lasso\n",
        "from sklearn.preprocessing import PolynomialFeatures\n",
        "import warnings\n",
        "\n",
        "# Suppress warnings\n",
        "warnings.filterwarnings('ignore')\n",
        "\n",
        "# Load the dataset\n",
        "file_path = '/content/drive/MyDrive/Melbourne_housing_FULL.csv'\n",
        "data = pd.read_csv(file_path)\n",
        "\n",
        "# Select features and target variable\n",
        "features = ['Rooms', 'Distance', 'Landsize', 'BuildingArea', 'YearBuilt', 'Lattitude', 'Longtitude']\n",
        "X = data[features]\n",
        "y = data['Price']\n",
        "\n",
        "# Handle missing values by dropping rows with NaN values\n",
        "data_clean = data.dropna(subset=['Price'])\n",
        "X = data_clean[features].dropna()\n",
        "y = data_clean['Price'].loc[X.index]\n",
        "\n",
        "# Split the data into training and testing sets\n",
        "X_train, X_test, y_train, y_test = train_test_split(X, y, test_size=0.2, random_state=42)\n",
        "\n",
        "# Apply polynomial features\n",
        "poly = PolynomialFeatures(degree=2)\n",
        "X_train_poly = poly.fit_transform(X_train)\n",
        "X_test_poly = poly.transform(X_test)\n",
        "\n",
        "# Polynomial Regression\n",
        "polreg = LinearRegression()\n",
        "polreg.fit(X_train_poly, y_train)\n",
        "\n",
        "train_score = polreg.score(X_train_poly, y_train)\n",
        "test_score = polreg.score(X_test_poly, y_test)\n",
        "\n",
        "print('Train Score for Polynomial Regression:', train_score)\n",
        "print('Test Score for Polynomial Regression:', test_score)\n",
        "\n",
        "# Lasso Regression with GridSearchCV\n",
        "lasso = Lasso(random_state=0)\n",
        "param_grid = {'alpha': [10, 20, 30, 40, 50, 100]}\n",
        "print(\"Parameter grid:\\n{}\".format(param_grid))\n",
        "\n",
        "grid_search = GridSearchCV(lasso, param_grid, cv=5, return_train_score=True)\n",
        "grid_search.fit(X_train_poly, y_train)\n",
        "\n",
        "# Best parameters and corresponding score\n",
        "best_params = grid_search.best_params_\n",
        "best_train_score = grid_search.best_score_\n",
        "best_test_score = grid_search.score(X_test_poly, y_test)\n",
        "\n",
        "print(\"Best parameters:\", best_params)\n",
        "print(\"Best cross-validation score (train): {:.2f}\".format(best_train_score))\n",
        "print(\"Test set score with best parameters: {:.2f}\".format(best_test_score))\n"
      ],
      "metadata": {
        "colab": {
          "base_uri": "https://localhost:8080/"
        },
        "id": "T1nGGPN6_ZXv",
        "outputId": "fdd44bd9-2c0b-4690-8897-16a81da60abb"
      },
      "execution_count": 11,
      "outputs": [
        {
          "output_type": "stream",
          "name": "stdout",
          "text": [
            "Train Score for Polynomial Regression: 0.7049457019341998\n",
            "Test Score for Polynomial Regression: 0.6489742144354267\n",
            "Parameter grid:\n",
            "{'alpha': [10, 20, 30, 40, 50, 100]}\n",
            "Best parameters: {'alpha': 10}\n",
            "Best cross-validation score (train): 0.54\n",
            "Test set score with best parameters: 0.60\n"
          ]
        }
      ]
    },
    {
      "cell_type": "code",
      "source": [
        "x_range = [1, 10, 100, 1000, 10000]\n",
        "train_score_list_lasso = []\n",
        "test_score_list_lasso = []\n",
        "\n",
        "for alpha in x_range:\n",
        "    lasso = Lasso(alpha)\n",
        "    lasso.fit(X_train,y_train)\n",
        "    train_score_list_lasso.append(lasso.score(X_train,y_train))\n",
        "    test_score_list_lasso.append(lasso.score(X_test, y_test))"
      ],
      "metadata": {
        "id": "0JDgjcoZ_1PE"
      },
      "execution_count": 12,
      "outputs": []
    },
    {
      "cell_type": "code",
      "source": [
        "import matplotlib.pyplot as plt\n",
        "import pylab as plt\n",
        "%matplotlib inline\n",
        "plt.subplots(figsize = (20,5))\n",
        "plt.plot(x_range, train_score_list_lasso, c = 'g', label = 'Train Score')\n",
        "plt.plot(x_range, test_score_list_lasso, c = 'b', label = 'Test Score')\n",
        "plt.xscale('log')\n",
        "plt.legend(loc = 3)\n",
        "plt.xlabel(r'$\\alpha$')\n",
        "plt.grid()"
      ],
      "metadata": {
        "colab": {
          "base_uri": "https://localhost:8080/",
          "height": 414
        },
        "id": "pGtf1kkg_-0L",
        "outputId": "7fb12ce7-3351-410d-c2a5-41bf87fe781c"
      },
      "execution_count": 14,
      "outputs": [
        {
          "output_type": "display_data",
          "data": {
            "text/plain": [
              "<Figure size 2000x500 with 1 Axes>"
            ],
            "image/png": "[encoded data removed]"
          },
          "metadata": {}
        }
      ]
    },
    {
      "cell_type": "code",
      "source": [
        "lasso_best = Lasso(alpha=1000)\n",
        "lasso_best.fit(X_train, y_train)\n",
        "\n",
        "print('Train Score for best Lasso Regression:', lasso_best.score(X_train, y_train))\n",
        "print('Test Score for best Lasso Regression:', lasso_best.score(X_test, y_test))"
      ],
      "metadata": {
        "colab": {
          "base_uri": "https://localhost:8080/"
        },
        "id": "QeGWgyiSABgj",
        "outputId": "7b613f0d-a786-407b-ecc3-07e6b912d5f3"
      },
      "execution_count": 15,
      "outputs": [
        {
          "output_type": "stream",
          "name": "stdout",
          "text": [
            "Train Score for best Lasso Regression: 0.555477820830488\n",
            "Test Score for best Lasso Regression: 0.5478922768206946\n"
          ]
        }
      ]
    },
    {
      "cell_type": "code",
      "source": [
        "knn = KNeighborsRegressor()\n",
        "param_grid = {'n_neighbors': [1,5, 10, 50, 100, 500]}\n",
        "print(\"Parameter grid:\\n{}\".format(param_grid))\n",
        "grid_search_knn = GridSearchCV(knn,cv=5,\n",
        "             param_grid=param_grid,\n",
        "                return_train_score=True )\n",
        "grid_search_knn.fit(X_train, y_train)\n",
        "\n",
        "print(\"Best parameters for knn: {}\".format(grid_search_knn.best_params_))\n",
        "print(\"Best cross-validation score for knn: {:.5f}\".format(grid_search_knn.best_score_))"
      ],
      "metadata": {
        "colab": {
          "base_uri": "https://localhost:8080/"
        },
        "id": "DjykUJ-xAaAy",
        "outputId": "8c34c830-8c79-470f-c3ba-a663aff0014b"
      },
      "execution_count": 16,
      "outputs": [
        {
          "output_type": "stream",
          "name": "stdout",
          "text": [
            "Parameter grid:\n",
            "{'n_neighbors': [1, 5, 10, 50, 100, 500]}\n",
            "Best parameters for knn: {'n_neighbors': 10}\n",
            "Best cross-validation score for knn: 0.54648\n"
          ]
        }
      ]
    },
    {
      "cell_type": "code",
      "source": [
        "train_score_array_knn = []\n",
        "test_score_array_knn = []\n",
        "\n",
        "for k in range(1,20):\n",
        "    knn = KNeighborsRegressor(k)\n",
        "    knn.fit(X_train, y_train)\n",
        "    train_score_array_knn.append(knn.score(X_train, y_train))\n",
        "    test_score_array_knn.append(knn.score(X_test, y_test))"
      ],
      "metadata": {
        "id": "Fgrj2P_uAfoL"
      },
      "execution_count": 17,
      "outputs": []
    },
    {
      "cell_type": "code",
      "source": [
        "x_axis = range(1,20)\n",
        "%matplotlib inline\n",
        "\n",
        "plt.subplots(figsize = (20,5))\n",
        "plt.plot(x_axis, train_score_array_knn, label = 'Train Score', c = 'g')\n",
        "plt.plot(x_axis, test_score_array_knn, label = 'Test Score', c='b')\n",
        "plt.xlabel('n_neighbors')\n",
        "plt.ylabel('R2')\n",
        "# plt.xticks(x_axis, np.arange(20))\n",
        "plt.grid()\n",
        "plt.legend()"
      ],
      "metadata": {
        "colab": {
          "base_uri": "https://localhost:8080/",
          "height": 425
        },
        "id": "B7A1KcnUAl0A",
        "outputId": "57a3ec3c-f8de-4182-ef02-b6b4dcb25826"
      },
      "execution_count": 18,
      "outputs": [
        {
          "output_type": "execute_result",
          "data": {
            "text/plain": [
              "<matplotlib.legend.Legend at 0x7c6a7d7dc5b0>"
            ]
          },
          "metadata": {},
          "execution_count": 18
        },
        {
          "output_type": "display_data",
          "data": {
            "text/plain": [
              "<Figure size 2000x500 with 1 Axes>"
            ],
            "image/png": "[encoded data removed]"
          },
          "metadata": {}
        }
      ]
    },
    {
      "cell_type": "code",
      "source": [
        "from sklearn.neighbors import KNeighborsRegressor\n",
        "knn_best = KNeighborsRegressor(n_neighbors=10)\n",
        "knn_best.fit(X_train, y_train)\n",
        "\n",
        "print('Train Score for best KNN Regression:', knn_best.score(X_train, y_train))\n",
        "print('Test Score for best KNN Regression:', knn_best.score(X_test, y_test))"
      ],
      "metadata": {
        "colab": {
          "base_uri": "https://localhost:8080/"
        },
        "id": "XpUJl3HJAppx",
        "outputId": "368d521c-ebef-44db-b362-4e4bc6bfc7b7"
      },
      "execution_count": 19,
      "outputs": [
        {
          "output_type": "stream",
          "name": "stdout",
          "text": [
            "Train Score for best KNN Regression: 0.6443701000997972\n",
            "Test Score for best KNN Regression: 0.5048573623664079\n"
          ]
        }
      ]
    },
    {
      "cell_type": "code",
      "source": [
        "tree = DecisionTreeRegressor()\n",
        "\n",
        "param_grid = {'max_depth': [1, 5, 10, 25, 50]}\n",
        "\n",
        "print(\"Parameter grid:\\n{}\".format(param_grid))\n",
        "grid_search_dr = GridSearchCV(tree, param_grid, cv=5,\n",
        "                  scoring=\"r2\", return_train_score=True )\n",
        "grid_search_dr.fit(X_train, y_train)\n",
        "print(\"Best parameters: {}\".format(grid_search_dr.best_params_))\n",
        "print(\"Best cross-validation score: {:.5f}\".format(grid_search_dr.best_score_))"
      ],
      "metadata": {
        "colab": {
          "base_uri": "https://localhost:8080/"
        },
        "id": "HxXHCVcdAuEJ",
        "outputId": "25ec559d-6f7d-415d-c304-0ae60846cdab"
      },
      "execution_count": 21,
      "outputs": [
        {
          "output_type": "stream",
          "name": "stdout",
          "text": [
            "Parameter grid:\n",
            "{'max_depth': [1, 5, 10, 25, 50]}\n",
            "Best parameters: {'max_depth': 10}\n",
            "Best cross-validation score: 0.69411\n"
          ]
        }
      ]
    },
    {
      "cell_type": "code",
      "source": [
        "train_score_array_dr = []\n",
        "test_score_array_dr = []\n",
        "depth_range = [1, 5, 10, 25, 50]\n",
        "for k in depth_range:\n",
        "    tree = DecisionTreeRegressor(max_depth=k)\n",
        "    tree.fit(X_train, y_train)\n",
        "    train_score_array_dr.append(tree.score(X_train, y_train))\n",
        "    test_score_array_dr.append(tree.score(X_test, y_test))\n",
        "\n",
        "\n",
        "x_axis = range(1,20)\n",
        "%matplotlib inline\n",
        "\n",
        "plt.subplots(figsize = (20,5))\n",
        "plt.plot(depth_range, train_score_array_dr, label = 'Train Score', c = 'g')\n",
        "plt.plot(depth_range, test_score_array_dr, label = 'Test Score', c='b')\n",
        "plt.xlabel('Max Depth')\n",
        "plt.ylabel('R2')\n",
        "# plt.xticks(x_axis, np.arange(20))\n",
        "plt.grid()\n",
        "plt.legend()"
      ],
      "metadata": {
        "colab": {
          "base_uri": "https://localhost:8080/",
          "height": 425
        },
        "id": "RiG4-G8SAxVx",
        "outputId": "8f0a3100-67b6-4c9c-b714-8126c2ad2b74"
      },
      "execution_count": 22,
      "outputs": [
        {
          "output_type": "execute_result",
          "data": {
            "text/plain": [
              "<matplotlib.legend.Legend at 0x7c6a7d795ae0>"
            ]
          },
          "metadata": {},
          "execution_count": 22
        },
        {
          "output_type": "display_data",
          "data": {
            "text/plain": [
              "<Figure size 2000x500 with 1 Axes>"
            ],
            "image/png": "[encoded data removed]"
          },
          "metadata": {}
        }
      ]
    },
    {
      "cell_type": "code",
      "source": [
        "dr_best = DecisionTreeRegressor(max_depth = 8)\n",
        "dr_best.fit(X_train, y_train)\n",
        "\n",
        "print('Train Score for best Decision Tree Regression:', dr_best.score(X_train, y_train))\n",
        "print('Test Score for best Decision Tree Regression:', dr_best.score(X_test, y_test))"
      ],
      "metadata": {
        "colab": {
          "base_uri": "https://localhost:8080/"
        },
        "id": "6DF26gzSA5KR",
        "outputId": "9ff16e98-8f07-46da-c354-3184ea90124d"
      },
      "execution_count": 23,
      "outputs": [
        {
          "output_type": "stream",
          "name": "stdout",
          "text": [
            "Train Score for best Decision Tree Regression: 0.8243176687052023\n",
            "Test Score for best Decision Tree Regression: 0.6775117368982917\n"
          ]
        }
      ]
    },
    {
      "cell_type": "markdown",
      "source": [
        "\n",
        "#Bagging and Pasting\n"
      ],
      "metadata": {
        "id": "p1gjjFFHA-Xv"
      }
    },
    {
      "cell_type": "code",
      "source": [
        "from sklearn.ensemble import BaggingRegressor\n",
        "from sklearn.tree import DecisionTreeRegressor\n",
        "# dt_reg = DecisionTreeRegressor(random_state=0, max_depth = 3)\n",
        "bag_reg_dt= BaggingRegressor(dr_best, bootstrap=True, random_state=0)\n",
        "bag_reg_dt.fit(X_train, y_train)\n",
        "print('Train Score for Baaging on DecisionTreeRegressor:', bag_reg_dt.score(X_train, y_train))\n",
        "print('Test Score for Baaging on DecisionTreeRegressor:', bag_reg_dt.score(X_test, y_test))"
      ],
      "metadata": {
        "colab": {
          "base_uri": "https://localhost:8080/"
        },
        "id": "sMPaLVR6A7ZR",
        "outputId": "3beede9d-98c2-4171-f12b-4784ff5610b3"
      },
      "execution_count": 24,
      "outputs": [
        {
          "output_type": "stream",
          "name": "stdout",
          "text": [
            "Train Score for Baaging on DecisionTreeRegressor: 0.8516044633983626\n",
            "Test Score for Baaging on DecisionTreeRegressor: 0.7299284017289118\n"
          ]
        }
      ]
    },
    {
      "cell_type": "code",
      "source": [
        "from sklearn.model_selection import GridSearchCV\n",
        "from sklearn.ensemble import BaggingRegressor\n",
        "from sklearn.ensemble import RandomForestRegressor\n",
        "rf_reg = RandomForestRegressor()\n",
        "bag_reg_rf= BaggingRegressor(rf_reg,bootstrap=True, random_state=0)\n",
        "bag_reg_rf.fit(X_train, y_train)\n",
        "print('Train Score for Baaging on RandomForest Regression:', bag_reg_rf.score(X_train, y_train))\n",
        "print('Test Score for Baaging on RandomForest Regression:', bag_reg_rf.score(X_test, y_test))"
      ],
      "metadata": {
        "colab": {
          "base_uri": "https://localhost:8080/"
        },
        "id": "_idws81SBBpg",
        "outputId": "0ac05595-4771-41d3-a99c-4907803704a8"
      },
      "execution_count": 25,
      "outputs": [
        {
          "output_type": "stream",
          "name": "stdout",
          "text": [
            "Train Score for Baaging on RandomForest Regression: 0.9310401725827764\n",
            "Test Score for Baaging on RandomForest Regression: 0.7758929704441513\n"
          ]
        }
      ]
    },
    {
      "cell_type": "code",
      "source": [
        "from sklearn.ensemble import BaggingRegressor\n",
        "from sklearn.tree import DecisionTreeRegressor\n",
        "# dt_reg = DecisionTreeRegressor(random_state=0, max_depth = 3)\n",
        "paste_reg_dt= BaggingRegressor(dr_best, bootstrap=False, random_state=0)\n",
        "paste_reg_dt.fit(X_train, y_train)\n",
        "print('Train Score for Pasting on DecisionTreeRegressor:', paste_reg_dt.score(X_train, y_train))\n",
        "print('Test Score for Pasting on DecisionTreeRegressor:', paste_reg_dt.score(X_test, y_test))"
      ],
      "metadata": {
        "colab": {
          "base_uri": "https://localhost:8080/"
        },
        "id": "vbXU1uAGBGsG",
        "outputId": "ac186515-4d76-48e6-ffd8-50f3d9b6102b"
      },
      "execution_count": 26,
      "outputs": [
        {
          "output_type": "stream",
          "name": "stdout",
          "text": [
            "Train Score for Pasting on DecisionTreeRegressor: 0.8245264648242377\n",
            "Test Score for Pasting on DecisionTreeRegressor: 0.6703421929397568\n"
          ]
        }
      ]
    },
    {
      "cell_type": "code",
      "source": [
        "paste_reg_rf= BaggingRegressor(rf_reg,bootstrap=False,random_state=0)\n",
        "paste_reg_rf.fit(X_train, y_train)\n",
        "\n",
        "print('Train Score for Pasting on RandomForest Regression:', paste_reg_rf.score(X_train, y_train))\n",
        "print('Test Score for Pasting on RandomForest Regression:', paste_reg_rf.score(X_test, y_test))"
      ],
      "metadata": {
        "colab": {
          "base_uri": "https://localhost:8080/"
        },
        "id": "EIhNE1arB0qi",
        "outputId": "d2e38dea-0e01-4c3d-928c-ade5c489436e"
      },
      "execution_count": 27,
      "outputs": [
        {
          "output_type": "stream",
          "name": "stdout",
          "text": [
            "Train Score for Pasting on RandomForest Regression: 0.9755951211492832\n",
            "Test Score for Pasting on RandomForest Regression: 0.7800980746346496\n"
          ]
        }
      ]
    },
    {
      "cell_type": "markdown",
      "source": [
        "\n",
        "#Adaboosting\n"
      ],
      "metadata": {
        "id": "KoX-_svhCYKa"
      }
    },
    {
      "cell_type": "code",
      "source": [
        "from sklearn.ensemble import AdaBoostRegressor\n",
        "# knn = KNeighborsRegressor()\n",
        "Knn_reg_ada = AdaBoostRegressor(knn_best,random_state=0 )\n",
        "Knn_reg_ada.fit(X_train, y_train)\n",
        "\n",
        "print('Train Score for Pasting Adaboost on KNN Regression:', Knn_reg_ada.score(X_train, y_train))\n",
        "print('Test Score for Pasting Adaboost on KNN Regression:', Knn_reg_ada.score(X_test, y_test))"
      ],
      "metadata": {
        "colab": {
          "base_uri": "https://localhost:8080/"
        },
        "id": "7mIgwr6ICZ7v",
        "outputId": "f45c81a1-39a9-4445-e234-c1a7e0ea1fe3"
      },
      "execution_count": 28,
      "outputs": [
        {
          "output_type": "stream",
          "name": "stdout",
          "text": [
            "Train Score for Pasting Adaboost on KNN Regression: 0.7727706069223097\n",
            "Test Score for Pasting Adaboost on KNN Regression: 0.3234458065511058\n"
          ]
        }
      ]
    },
    {
      "cell_type": "code",
      "source": [
        "# rf_reg = RandomForestRegressor()\n",
        "ada_reg_rf= AdaBoostRegressor(rf_reg,random_state=0)\n",
        "ada_reg_rf.fit(X_train, y_train)\n",
        "\n",
        "print('Train Score for Pasting Adaboost on RandomForest Regression:', ada_reg_rf.score(X_train, y_train))\n",
        "print('Test Score for Pasting Adaboost on RandomForest Regression:', ada_reg_rf.score(X_test, y_test))"
      ],
      "metadata": {
        "colab": {
          "base_uri": "https://localhost:8080/"
        },
        "id": "jPj8-SGGDPEa",
        "outputId": "83383707-f9d0-416f-9062-77e8d19045b6"
      },
      "execution_count": 29,
      "outputs": [
        {
          "output_type": "stream",
          "name": "stdout",
          "text": [
            "Train Score for Pasting Adaboost on RandomForest Regression: 0.9807293575971956\n",
            "Test Score for Pasting Adaboost on RandomForest Regression: 0.7820371904856853\n"
          ]
        }
      ]
    },
    {
      "cell_type": "code",
      "source": [
        "from sklearn.ensemble import GradientBoostingRegressor\n",
        "grad_reg = GradientBoostingRegressor(random_state=0)\n",
        "grad_reg.fit(X_train, y_train)\n",
        "\n",
        "print('Train Score for GradientBoosting Regression:', grad_reg.score(X_train, y_train))\n",
        "print('Test Score for GradientBoosting Regression:', grad_reg.score(X_test, y_test))"
      ],
      "metadata": {
        "colab": {
          "base_uri": "https://localhost:8080/"
        },
        "id": "_0oWZt2iDRJZ",
        "outputId": "cc11cc78-281b-4a9c-caad-157f9093940a"
      },
      "execution_count": 30,
      "outputs": [
        {
          "output_type": "stream",
          "name": "stdout",
          "text": [
            "Train Score for GradientBoosting Regression: 0.8413817331010053\n",
            "Test Score for GradientBoosting Regression: 0.7442415551891042\n"
          ]
        }
      ]
    },
    {
      "cell_type": "markdown",
      "source": [
        "#PCA"
      ],
      "metadata": {
        "id": "CSiG4u1WD1kf"
      }
    },
    {
      "cell_type": "code",
      "source": [
        "from sklearn.decomposition import PCA\n",
        "import numpy as np\n",
        "# reduce the dimensionality\n",
        "pca = PCA(n_components= 0.95, svd_solver = 'full')\n",
        "X_train_pca = pca.fit_transform(X_train)\n",
        "X_test_pca = pca.transform(X_test)\n",
        "\n"
      ],
      "metadata": {
        "id": "Uy8mLQXdDwBH"
      },
      "execution_count": 35,
      "outputs": []
    },
    {
      "cell_type": "code",
      "source": [
        "PC_values = np.arange(pca.n_components_) + 1\n",
        "plt.plot(PC_values, pca.explained_variance_ratio_, 'ro-', linewidth=2)\n",
        "plt.title('Scree Plot')\n",
        "plt.xlabel('Principal Component')\n",
        "plt.ylabel('Proportion of Variance Explained')\n",
        "plt.show()"
      ],
      "metadata": {
        "colab": {
          "base_uri": "https://localhost:8080/",
          "height": 472
        },
        "id": "a_1_hxKOEDg5",
        "outputId": "fb7156ab-4cc1-4444-a07c-e4a61beffbf7"
      },
      "execution_count": 36,
      "outputs": [
        {
          "output_type": "display_data",
          "data": {
            "text/plain": [
              "<Figure size 640x480 with 1 Axes>"
            ],
            "image/png": "[encoded data removed]"
          },
          "metadata": {}
        }
      ]
    },
    {
      "cell_type": "code",
      "source": [
        "pca.explained_variance_ratio_"
      ],
      "metadata": {
        "colab": {
          "base_uri": "https://localhost:8080/"
        },
        "id": "JqAmxE9SEHMh",
        "outputId": "14611510-28bb-4328-f767-7a5913078e28"
      },
      "execution_count": 37,
      "outputs": [
        {
          "output_type": "execute_result",
          "data": {
            "text/plain": [
              "array([0.99269217])"
            ]
          },
          "metadata": {},
          "execution_count": 37
        }
      ]
    },
    {
      "cell_type": "code",
      "source": [
        "dr_best.fit(X_train_pca, y_train)\n",
        "\n",
        "print('Train Score for Decision Tree Regression using PCA:', dr_best.score(X_train_pca, y_train))\n",
        "print('Test Score for Decision Tree Regression using PCA:', dr_best.score(X_test_pca, y_test))"
      ],
      "metadata": {
        "colab": {
          "base_uri": "https://localhost:8080/"
        },
        "id": "_RdFS7NfEKda",
        "outputId": "066d6f7b-8fdc-4336-dd06-021f80eb28ec"
      },
      "execution_count": 38,
      "outputs": [
        {
          "output_type": "stream",
          "name": "stdout",
          "text": [
            "Train Score for Decision Tree Regression using PCA: 0.19755664503184278\n",
            "Test Score for Decision Tree Regression using PCA: 0.11554572536084184\n"
          ]
        }
      ]
    },
    {
      "cell_type": "code",
      "source": [
        "import pandas as pd\n",
        "from sklearn.model_selection import train_test_split, GridSearchCV\n",
        "from sklearn.linear_model import LinearRegression, Lasso\n",
        "from sklearn.preprocessing import PolynomialFeatures\n",
        "import warnings\n",
        "\n",
        "# Suppress warnings\n",
        "warnings.filterwarnings('ignore')\n",
        "\n",
        "# Load the dataset\n",
        "file_path = '/content/drive/MyDrive/Melbourne_housing_FULL.csv'\n",
        "data = pd.read_csv(file_path)\n",
        "\n",
        "# Select features and target variable\n",
        "features = ['Rooms', 'Distance', 'Landsize', 'BuildingArea', 'YearBuilt', 'Lattitude', 'Longtitude']\n",
        "X = data[features]\n",
        "y = data['Price']\n",
        "\n",
        "# Handle missing values by dropping rows with NaN values\n",
        "data_clean = data.dropna(subset=['Price'])\n",
        "X = data_clean[features].dropna()\n",
        "y = data_clean['Price'].loc[X.index]\n",
        "\n",
        "# Split the data into training and testing sets\n",
        "X_train, X_test, y_train, y_test = train_test_split(X, y, test_size=0.2, random_state=42)\n",
        "\n",
        "# Apply polynomial features\n",
        "poly = PolynomialFeatures(degree=2)\n",
        "X_train_poly = poly.fit_transform(X_train)\n",
        "X_test_poly = poly.transform(X_test)\n",
        "\n",
        "# Polynomial Regression\n",
        "polreg = LinearRegression()\n",
        "polreg.fit(X_train_poly, y_train)\n",
        "\n",
        "train_score = polreg.score(X_train_poly, y_train)\n",
        "test_score = polreg.score(X_test_poly, y_test)\n",
        "\n",
        "print('Train Score for Polynomial Regression:', train_score)\n",
        "print('Test Score for Polynomial Regression:', test_score)\n",
        "\n",
        "# Lasso Regression with GridSearchCV\n",
        "lasso = Lasso(random_state=0)\n",
        "param_grid = {'alpha': [10, 20, 30, 40, 50, 100]}\n",
        "print(\"Parameter grid:\\n{}\".format(param_grid))\n",
        "\n",
        "grid_search = GridSearchCV(lasso, param_grid, cv=5, return_train_score=True)\n",
        "grid_search.fit(X_train_poly, y_train)\n",
        "\n",
        "# Best parameters and corresponding score\n",
        "best_params = grid_search.best_params_\n",
        "best_train_score = grid_search.best_score_\n",
        "best_test_score = grid_search.score(X_test_poly, y_test)\n",
        "\n",
        "print(\"Best parameters:\", best_params)\n",
        "print(\"Best cross-validation score (train): {:.2f}\".format(best_train_score))\n",
        "print(\"Test set score with best parameters: {:.2f}\".format(best_test_score))\n"
      ],
      "metadata": {
        "colab": {
          "base_uri": "https://localhost:8080/"
        },
        "id": "LJn-H8ukELcK",
        "outputId": "b822fc23-8b45-4720-cfc5-21dcbe827e41"
      },
      "execution_count": 44,
      "outputs": [
        {
          "output_type": "stream",
          "name": "stdout",
          "text": [
            "Train Score for Polynomial Regression: 0.7049457019341998\n",
            "Test Score for Polynomial Regression: 0.6489742144354267\n",
            "Parameter grid:\n",
            "{'alpha': [10, 20, 30, 40, 50, 100]}\n",
            "Best parameters: {'alpha': 10}\n",
            "Best cross-validation score (train): 0.54\n",
            "Test set score with best parameters: 0.60\n"
          ]
        }
      ]
    },
    {
      "cell_type": "code",
      "source": [
        "knn.fit(X_train_pca, y_train)\n",
        "\n",
        "print('Train Score for KNN Regression using PCA:', knn.score(X_train_pca, y_train))\n",
        "print('Test Score for KNN Regression using PCA:', knn.score(X_test_pca, y_test))"
      ],
      "metadata": {
        "colab": {
          "base_uri": "https://localhost:8080/"
        },
        "id": "DettIJCCENpi",
        "outputId": "cab5b474-2d46-496b-e112-e4902d310975"
      },
      "execution_count": 43,
      "outputs": [
        {
          "output_type": "stream",
          "name": "stdout",
          "text": [
            "Train Score for KNN Regression using PCA: 0.18096626299409257\n",
            "Test Score for KNN Regression using PCA: 0.06083195237762484\n"
          ]
        }
      ]
    },
    {
      "cell_type": "code",
      "source": [
        "svr.fit(X_train_pca, y_train)\n",
        "\n",
        "print('Train Score for SVRegression using PCA:', svr.score(X_train_pca, y_train))\n",
        "print('Test Score for SVRegression using PCA:', svr.score(X_test_pca, y_test))"
      ],
      "metadata": {
        "colab": {
          "base_uri": "https://localhost:8080/"
        },
        "id": "WHU4-WLNE4XI",
        "outputId": "a9b18f71-6b4e-4766-8093-71c03bf66a75"
      },
      "execution_count": 45,
      "outputs": [
        {
          "output_type": "stream",
          "name": "stdout",
          "text": [
            "Train Score for SVRegression using PCA: -0.08224293962290918\n",
            "Test Score for SVRegression using PCA: -0.08005091388168406\n"
          ]
        }
      ]
    },
    {
      "cell_type": "markdown",
      "source": [
        "#Deep learning model"
      ],
      "metadata": {
        "id": "RxRgtUyVFCNv"
      }
    },
    {
      "cell_type": "code",
      "source": [
        "from keras.models import Sequential\n",
        "from keras.layers import Dense\n",
        "import tensorflow as tf"
      ],
      "metadata": {
        "id": "aouzXr-QE-Ao"
      },
      "execution_count": 46,
      "outputs": []
    },
    {
      "cell_type": "code",
      "source": [
        "# step 1: build the model\n",
        "model = Sequential()\n",
        "model.add(Dense(32, input_dim = 35, activation='relu', kernel_initializer = 'zero', name = 'input_layer'))\n",
        "#model.add(Dense(16, activation='relu', kernel_initializer = 'zero', name = 'hidden_layer'))\n",
        "model.add(Dense(1, activation = 'softmax', name = 'output_layer'))"
      ],
      "metadata": {
        "id": "PI58jdkPFBe6"
      },
      "execution_count": 47,
      "outputs": []
    },
    {
      "cell_type": "code",
      "source": [
        "# step 2: Compile the model\n",
        "model.compile(optimizer = 'adam', loss='mse', metrics=['mae','mse'])"
      ],
      "metadata": {
        "id": "P7sJEd6TFGXX"
      },
      "execution_count": 48,
      "outputs": []
    },
    {
      "cell_type": "code",
      "source": [
        "import pandas as pd\n",
        "from sklearn.model_selection import train_test_split, GridSearchCV\n",
        "from sklearn.linear_model import LinearRegression, Lasso\n",
        "from sklearn.preprocessing import PolynomialFeatures\n",
        "from sklearn.preprocessing import StandardScaler\n",
        "from tensorflow.keras.models import Sequential\n",
        "from tensorflow.keras.layers import Dense\n",
        "import warnings\n",
        "\n",
        "# Suppress warnings\n",
        "warnings.filterwarnings('ignore')\n",
        "\n",
        "# Load the dataset\n",
        "file_path = '/content/drive/MyDrive/Melbourne_housing_FULL.csv'\n",
        "data = pd.read_csv(file_path)\n",
        "\n",
        "# Select features and target variable\n",
        "features = ['Rooms', 'Distance', 'Landsize', 'BuildingArea', 'YearBuilt', 'Lattitude', 'Longtitude']\n",
        "X = data[features]\n",
        "y = data['Price']\n",
        "\n",
        "# Handle missing values by dropping rows with NaN values\n",
        "data_clean = data.dropna(subset=['Price'])\n",
        "X = data_clean[features].dropna()\n",
        "y = data_clean['Price'].loc[X.index]\n",
        "\n",
        "# Split the data into training and testing sets\n",
        "X_train, X_test, y_train, y_test = train_test_split(X, y, test_size=0.2, random_state=42)\n",
        "\n",
        "# Apply polynomial features\n",
        "poly = PolynomialFeatures(degree=2)\n",
        "X_train_poly = poly.fit_transform(X_train)\n",
        "X_test_poly = poly.transform(X_test)\n",
        "\n",
        "# Standardize the data\n",
        "scaler = StandardScaler()\n",
        "X_train_poly = scaler.fit_transform(X_train_poly)\n",
        "X_test_poly = scaler.transform(X_test_poly)\n",
        "\n",
        "# Define the neural network model\n",
        "model = Sequential()\n",
        "model.add(Dense(64, input_shape=(X_train_poly.shape[1],), activation='relu'))\n",
        "model.add(Dense(32, activation='relu'))\n",
        "model.add(Dense(1))\n",
        "\n",
        "model.compile(optimizer='adam', loss='mse')\n",
        "\n",
        "# Train the model\n",
        "model.fit(X_train_poly, y_train, batch_size=128, epochs=20)\n",
        "\n",
        "# Evaluate the model\n",
        "train_score = model.evaluate(X_train_poly, y_train)\n",
        "test_score = model.evaluate(X_test_poly, y_test)\n",
        "\n",
        "print('Train Score for Neural Network:', train_score)\n",
        "print('Test Score for Neural Network:', test_score)\n",
        "\n",
        "# Lasso Regression with GridSearchCV\n",
        "lasso = Lasso(random_state=0)\n",
        "param_grid = {'alpha': [10, 20, 30, 40, 50, 100]}\n",
        "print(\"Parameter grid:\\n{}\".format(param_grid))\n",
        "\n",
        "grid_search = GridSearchCV(lasso, param_grid, cv=5, return_train_score=True)\n",
        "grid_search.fit(X_train_poly, y_train)\n",
        "\n",
        "# Best parameters and corresponding score\n",
        "best_params = grid_search.best_params_\n",
        "best_train_score = grid_search.best_score_\n",
        "best_test_score = grid_search.score(X_test_poly, y_test)\n",
        "\n",
        "print(\"Best parameters:\", best_params)\n",
        "print(\"Best cross-validation score (train): {:.2f}\".format(best_train_score))\n",
        "print(\"Test set score with best parameters: {:.2f}\".format(best_test_score))\n"
      ],
      "metadata": {
        "colab": {
          "base_uri": "https://localhost:8080/"
        },
        "id": "mPedirJZFI5y",
        "outputId": "740e4d43-98b4-4a55-be31-5e363a78e168"
      },
      "execution_count": 51,
      "outputs": [
        {
          "output_type": "stream",
          "name": "stdout",
          "text": [
            "Epoch 1/20\n",
            "57/57 [==============================] - 2s 6ms/step - loss: 1667956736000.0000\n",
            "Epoch 2/20\n",
            "57/57 [==============================] - 0s 5ms/step - loss: 1667876257792.0000\n",
            "Epoch 3/20\n",
            "57/57 [==============================] - 0s 4ms/step - loss: 1667574923264.0000\n",
            "Epoch 4/20\n",
            "57/57 [==============================] - 0s 4ms/step - loss: 1666849046528.0000\n",
            "Epoch 5/20\n",
            "57/57 [==============================] - 0s 3ms/step - loss: 1665489829888.0000\n",
            "Epoch 6/20\n",
            "57/57 [==============================] - 0s 4ms/step - loss: 1663293456384.0000\n",
            "Epoch 7/20\n",
            "57/57 [==============================] - 0s 6ms/step - loss: 1660099100672.0000\n",
            "Epoch 8/20\n",
            "57/57 [==============================] - 0s 5ms/step - loss: 1655751049216.0000\n",
            "Epoch 9/20\n",
            "57/57 [==============================] - 0s 4ms/step - loss: 1650057019392.0000\n",
            "Epoch 10/20\n",
            "57/57 [==============================] - 0s 6ms/step - loss: 1642913071104.0000\n",
            "Epoch 11/20\n",
            "57/57 [==============================] - 0s 4ms/step - loss: 1634123644928.0000\n",
            "Epoch 12/20\n",
            "57/57 [==============================] - 0s 4ms/step - loss: 1623742218240.0000\n",
            "Epoch 13/20\n",
            "57/57 [==============================] - 0s 4ms/step - loss: 1611649384448.0000\n",
            "Epoch 14/20\n",
            "57/57 [==============================] - 0s 5ms/step - loss: 1597805821952.0000\n",
            "Epoch 15/20\n",
            "57/57 [==============================] - 0s 4ms/step - loss: 1582105886720.0000\n",
            "Epoch 16/20\n",
            "57/57 [==============================] - 0s 3ms/step - loss: 1564510257152.0000\n",
            "Epoch 17/20\n",
            "57/57 [==============================] - 0s 3ms/step - loss: 1545048817664.0000\n",
            "Epoch 18/20\n",
            "57/57 [==============================] - 0s 4ms/step - loss: 1523653148672.0000\n",
            "Epoch 19/20\n",
            "57/57 [==============================] - 0s 6ms/step - loss: 1500560621568.0000\n",
            "Epoch 20/20\n",
            "57/57 [==============================] - 0s 4ms/step - loss: 1475809902592.0000\n",
            "226/226 [==============================] - 1s 2ms/step - loss: 1462571499520.0000\n",
            "57/57 [==============================] - 0s 1ms/step - loss: 1424737697792.0000\n",
            "Train Score for Neural Network: 1462571499520.0\n",
            "Test Score for Neural Network: 1424737697792.0\n",
            "Parameter grid:\n",
            "{'alpha': [10, 20, 30, 40, 50, 100]}\n",
            "Best parameters: {'alpha': 100}\n",
            "Best cross-validation score (train): 0.54\n",
            "Test set score with best parameters: 0.60\n"
          ]
        }
      ]
    },
    {
      "cell_type": "code",
      "source": [
        "import pandas as pd\n",
        "from sklearn.model_selection import train_test_split, GridSearchCV\n",
        "from sklearn.linear_model import LinearRegression, Lasso\n",
        "from sklearn.preprocessing import PolynomialFeatures\n",
        "from sklearn.preprocessing import StandardScaler\n",
        "from tensorflow.keras.models import Sequential\n",
        "from tensorflow.keras.layers import Dense\n",
        "import warnings\n",
        "\n",
        "# Suppress warnings\n",
        "warnings.filterwarnings('ignore')\n",
        "\n",
        "# Load the dataset\n",
        "file_path = '/content/drive/MyDrive/Melbourne_housing_FULL.csv'\n",
        "data = pd.read_csv(file_path)\n",
        "\n",
        "# Select features and target variable\n",
        "features = ['Rooms', 'Distance', 'Landsize', 'BuildingArea', 'YearBuilt', 'Lattitude', 'Longtitude']\n",
        "X = data[features]\n",
        "y = data['Price']\n",
        "\n",
        "# Handle missing values by dropping rows with NaN values\n",
        "data_clean = data.dropna(subset=['Price'])\n",
        "X = data_clean[features].dropna()\n",
        "y = data_clean['Price'].loc[X.index]\n",
        "\n",
        "# Split the data into training and testing sets\n",
        "X_train, X_test, y_train, y_test = train_test_split(X, y, test_size=0.2, random_state=42)\n",
        "\n",
        "# Apply polynomial features\n",
        "poly = PolynomialFeatures(degree=2)\n",
        "X_train_poly = poly.fit_transform(X_train)\n",
        "X_test_poly = poly.transform(X_test)\n",
        "\n",
        "# Standardize the data\n",
        "scaler = StandardScaler()\n",
        "X_train_poly = scaler.fit_transform(X_train_poly)\n",
        "X_test_poly = scaler.transform(X_test_poly)\n",
        "\n",
        "# Define the neural network model\n",
        "model = Sequential()\n",
        "model.add(Dense(64, input_shape=(X_train_poly.shape[1],), activation='relu'))\n",
        "model.add(Dense(32, activation='relu'))\n",
        "model.add(Dense(1))\n",
        "\n",
        "model.compile(optimizer='adam', loss='mse')\n",
        "\n",
        "# Train the model\n",
        "model.fit(X_train_poly, y_train, batch_size=128, epochs=20)\n",
        "\n",
        "# Step 4: Model evaluation\n",
        "train_loss = model.evaluate(X_train_poly, y_train)\n",
        "test_loss = model.evaluate(X_test_poly, y_test)\n",
        "\n",
        "print(\"Train Loss:\", train_loss)\n",
        "print(\"Test Loss:\", test_loss)\n",
        "\n",
        "# Lasso Regression with GridSearchCV\n",
        "lasso = Lasso(random_state=0)\n",
        "param_grid = {'alpha': [10, 20, 30, 40, 50, 100]}\n",
        "print(\"Parameter grid:\\n{}\".format(param_grid))\n",
        "\n",
        "grid_search = GridSearchCV(lasso, param_grid, cv=5, return_train_score=True)\n",
        "grid_search.fit(X_train_poly, y_train)\n",
        "\n",
        "# Best parameters and corresponding score\n",
        "best_params = grid_search.best_params_\n",
        "best_train_score = grid_search.best_score_\n",
        "best_test_score = grid_search.score(X_test_poly, y_test)\n",
        "\n",
        "print(\"Best parameters:\", best_params)\n",
        "print(\"Best cross-validation score (train): {:.2f}\".format(best_train_score))\n",
        "print(\"Test set score with best parameters: {:.2f}\".format(best_test_score))\n"
      ],
      "metadata": {
        "colab": {
          "base_uri": "https://localhost:8080/"
        },
        "id": "mLcQXK0KFJhT",
        "outputId": "b03c80df-665c-4013-a6f9-412676ea8abf"
      },
      "execution_count": 53,
      "outputs": [
        {
          "output_type": "stream",
          "name": "stdout",
          "text": [
            "Epoch 1/20\n",
            "57/57 [==============================] - 2s 5ms/step - loss: 1667959750656.0000\n",
            "Epoch 2/20\n",
            "57/57 [==============================] - 0s 5ms/step - loss: 1667888840704.0000\n",
            "Epoch 3/20\n",
            "57/57 [==============================] - 0s 4ms/step - loss: 1667625254912.0000\n",
            "Epoch 4/20\n",
            "57/57 [==============================] - 0s 4ms/step - loss: 1666975399936.0000\n",
            "Epoch 5/20\n",
            "57/57 [==============================] - 0s 5ms/step - loss: 1665741094912.0000\n",
            "Epoch 6/20\n",
            "57/57 [==============================] - 0s 5ms/step - loss: 1663772131328.0000\n",
            "Epoch 7/20\n",
            "57/57 [==============================] - 1s 11ms/step - loss: 1660887367680.0000\n",
            "Epoch 8/20\n",
            "57/57 [==============================] - 0s 8ms/step - loss: 1656983650304.0000\n",
            "Epoch 9/20\n",
            "57/57 [==============================] - 1s 9ms/step - loss: 1651862536192.0000\n",
            "Epoch 10/20\n",
            "57/57 [==============================] - 0s 8ms/step - loss: 1645436993536.0000\n",
            "Epoch 11/20\n",
            "57/57 [==============================] - 0s 4ms/step - loss: 1637569921024.0000\n",
            "Epoch 12/20\n",
            "57/57 [==============================] - 0s 5ms/step - loss: 1628225667072.0000\n",
            "Epoch 13/20\n",
            "57/57 [==============================] - 0s 4ms/step - loss: 1617328734208.0000\n",
            "Epoch 14/20\n",
            "57/57 [==============================] - 0s 4ms/step - loss: 1604809785344.0000\n",
            "Epoch 15/20\n",
            "57/57 [==============================] - 0s 3ms/step - loss: 1590686515200.0000\n",
            "Epoch 16/20\n",
            "57/57 [==============================] - 0s 3ms/step - loss: 1574909640704.0000\n",
            "Epoch 17/20\n",
            "57/57 [==============================] - 0s 3ms/step - loss: 1557445345280.0000\n",
            "Epoch 18/20\n",
            "57/57 [==============================] - 0s 3ms/step - loss: 1538344615936.0000\n",
            "Epoch 19/20\n",
            "57/57 [==============================] - 0s 3ms/step - loss: 1517344522240.0000\n",
            "Epoch 20/20\n",
            "57/57 [==============================] - 0s 3ms/step - loss: 1494881796096.0000\n",
            "226/226 [==============================] - 1s 2ms/step - loss: 1482774544384.0000\n",
            "57/57 [==============================] - 0s 2ms/step - loss: 1442071314432.0000\n",
            "Train Loss: 1482774544384.0\n",
            "Test Loss: 1442071314432.0\n",
            "Parameter grid:\n",
            "{'alpha': [10, 20, 30, 40, 50, 100]}\n",
            "Best parameters: {'alpha': 100}\n",
            "Best cross-validation score (train): 0.54\n",
            "Test set score with best parameters: 0.60\n"
          ]
        }
      ]
    }
  ]
}